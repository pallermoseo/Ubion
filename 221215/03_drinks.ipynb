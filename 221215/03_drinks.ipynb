{
 "cells": [
  {
   "attachments": {},
   "cell_type": "markdown",
   "metadata": {},
   "source": [
    "1. drinks.csv 파일 로드\n",
    "2. 결측치 확인\n",
    "3. continent 컬럼에 결측치 존재 -> 결측치를 'OT'로 대체\n",
    "4. continent 별 spririt_servings 컬럼의 평균, 최소, 최대, 합계를 출력\n",
    "5. 4개의 값들을 그래프로 표시 (바형 그래프)\n",
    "6. total_liters_of_pure_alcohol 컬럼의 평균보다 높은 continent가 어디인지 출력"
   ]
  },
  {
   "cell_type": "code",
   "execution_count": 1,
   "metadata": {},
   "outputs": [],
   "source": [
    "import pandas as pd\n",
    "import matplotlib.pyplot as plt"
   ]
  },
  {
   "cell_type": "code",
   "execution_count": 2,
   "metadata": {},
   "outputs": [],
   "source": [
    "drinks=pd.read_csv('../csv/drinks.csv')"
   ]
  },
  {
   "cell_type": "code",
   "execution_count": 3,
   "metadata": {},
   "outputs": [
    {
     "data": {
      "text/plain": [
       "country                          0\n",
       "beer_servings                    0\n",
       "spirit_servings                  0\n",
       "wine_servings                    0\n",
       "total_litres_of_pure_alcohol     0\n",
       "continent                       23\n",
       "dtype: int64"
      ]
     },
     "execution_count": 3,
     "metadata": {},
     "output_type": "execute_result"
    }
   ],
   "source": [
    "drinks.isna().sum()"
   ]
  },
  {
   "cell_type": "code",
   "execution_count": 4,
   "metadata": {},
   "outputs": [],
   "source": [
    "drinks['continent']=drinks['continent'].fillna('OT')"
   ]
  },
  {
   "cell_type": "code",
   "execution_count": 5,
   "metadata": {},
   "outputs": [
    {
     "name": "stderr",
     "output_type": "stream",
     "text": [
      "C:\\Users\\ssjjk\\AppData\\Local\\Temp\\ipykernel_65044\\1202339940.py:1: FutureWarning: The default value of numeric_only in DataFrameGroupBy.sum is deprecated. In a future version, numeric_only will default to False. Either specify numeric_only or select only columns which should be valid for the function.\n",
      "  group=drinks.groupby('continent').sum()\n"
     ]
    }
   ],
   "source": [
    "group=drinks.groupby('continent').sum()"
   ]
  },
  {
   "cell_type": "code",
   "execution_count": 6,
   "metadata": {},
   "outputs": [
    {
     "name": "stderr",
     "output_type": "stream",
     "text": [
      "C:\\Users\\ssjjk\\AppData\\Local\\Temp\\ipykernel_65044\\2145803580.py:2: FutureWarning: ['country'] did not aggregate successfully. If any error is raised this will raise in a future version of pandas. Drop these columns/ops to avoid this warning.\n",
      "  group_data=drinks.groupby('continent').agg(['mean','min','max','sum'])['spirit_servings']\n"
     ]
    }
   ],
   "source": [
    "# continent 별 spirit_savings 컬럼의 평균, 최대, 최소, 합계\n",
    "group_data=drinks.groupby('continent').agg(['mean','min','max','sum'])['spirit_servings']"
   ]
  },
  {
   "cell_type": "code",
   "execution_count": 7,
   "metadata": {},
   "outputs": [
    {
     "data": {
      "image/png": "[encoded data removed]",
      "text/plain": [
       "<Figure size 640x480 with 4 Axes>"
      ]
     },
     "metadata": {},
     "output_type": "display_data"
    }
   ],
   "source": [
    "#시각화 - 4개의 그래프를 subplot() 이용하여 출력\n",
    "#바형 그래프\n",
    "\n",
    "plt.subplot(2,2,1)\n",
    "plt.bar(group_data.index, group_data['mean'])\n",
    "plt.subplot(2,2,2)\n",
    "plt.bar(group_data.index, group_data['min'])\n",
    "plt.subplot(2,2,3)\n",
    "plt.bar(group_data.index, group_data['max'])\n",
    "plt.subplot(2,2,4)\n",
    "plt.bar(group_data.index, group_data['sum'])\n",
    "plt.show()\n",
    "\n"
   ]
  },
  {
   "cell_type": "code",
   "execution_count": 8,
   "metadata": {},
   "outputs": [
    {
     "name": "stderr",
     "output_type": "stream",
     "text": [
      "C:\\Users\\ssjjk\\AppData\\Local\\Temp\\ipykernel_65044\\1194645785.py:3: FutureWarning: The default value of numeric_only in DataFrameGroupBy.mean is deprecated. In a future version, numeric_only will default to False. Either specify numeric_only or select only columns which should be valid for the function.\n",
      "  group_data_2= drinks.groupby('continent').mean()['total_litres_of_pure_alcohol']\n"
     ]
    }
   ],
   "source": [
    "# 전체 술 소비량의 평균보다 높은 continent가 어디인가?\n",
    "# continent 별 전체 술 소비량 평균을 구하는 데이터프레임 생성\n",
    "group_data_2= drinks.groupby('continent').mean()['total_litres_of_pure_alcohol']\n"
   ]
  },
  {
   "cell_type": "code",
   "execution_count": 9,
   "metadata": {},
   "outputs": [
    {
     "name": "stderr",
     "output_type": "stream",
     "text": [
      "C:\\Users\\ssjjk\\AppData\\Local\\Temp\\ipykernel_65044\\683862822.py:2: FutureWarning: The default value of numeric_only in DataFrame.mean is deprecated. In a future version, it will default to False. In addition, specifying 'numeric_only=None' is deprecated. Select only valid columns or specify the value of numeric_only to silence this warning.\n",
      "  total_mean=drinks.mean()['total_litres_of_pure_alcohol']\n"
     ]
    }
   ],
   "source": [
    "# 전체 술 소비량의 평균\n",
    "total_mean=drinks.mean()['total_litres_of_pure_alcohol']"
   ]
  },
  {
   "cell_type": "code",
   "execution_count": 10,
   "metadata": {},
   "outputs": [
    {
     "data": {
      "text/plain": [
       "continent\n",
       "EU    8.617778\n",
       "OT    5.995652\n",
       "SA    6.308333\n",
       "Name: total_litres_of_pure_alcohol, dtype: float64"
      ]
     },
     "execution_count": 10,
     "metadata": {},
     "output_type": "execute_result"
    }
   ],
   "source": [
    "# 그룹회한 데이터와 전체 술소비량의 평균 값을 가지고 비교\n",
    "group_data_2[group_data_2 >= total_mean]"
   ]
  }
 ],
 "metadata": {
  "kernelspec": {
   "display_name": "Python 3",
   "language": "python",
   "name": "python3"
  },
  "language_info": {
   "codemirror_mode": {
    "name": "ipython",
    "version": 3
   },
   "file_extension": ".py",
   "mimetype": "text/x-python",
   "name": "python",
   "nbconvert_exporter": "python",
   "pygments_lexer": "ipython3",
   "version": "3.8.7 (tags/v3.8.7:6503f05, Dec 21 2020, 17:59:51) [MSC v.1928 64 bit (AMD64)]"
  },
  "orig_nbformat": 4,
  "vscode": {
   "interpreter": {
    "hash": "db80e00a9494dff4d9a18c4680e638ebc3e04173ad7114e987ac47448740ff51"
   }
  }
 },
 "nbformat": 4,
 "nbformat_minor": 2
}
