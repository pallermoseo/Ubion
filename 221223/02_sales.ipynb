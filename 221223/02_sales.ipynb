{
 "cells": [
  {
   "cell_type": "code",
   "execution_count": 1,
   "metadata": {},
   "outputs": [],
   "source": [
    "import pandas as pd"
   ]
  },
  {
   "cell_type": "code",
   "execution_count": 2,
   "metadata": {},
   "outputs": [],
   "source": [
    "sales = pd.read_csv('../csv/Sales Records.csv')"
   ]
  },
  {
   "attachments": {},
   "cell_type": "markdown",
   "metadata": {},
   "source": [
    "# 복습\n",
    "1. Order Date 의 값을 시계열 변경\n",
    "2. Order week 컬럼을 생성하여 요일데이터 저장\n",
    "3. 국가, 요일별 Total Profit의 평균, 합계를 구하시오"
   ]
  },
  {
   "cell_type": "code",
   "execution_count": 3,
   "metadata": {},
   "outputs": [
    {
     "data": {
      "text/html": [
       "<div>\n",
       "<style scoped>\n",
       "    .dataframe tbody tr th:only-of-type {\n",
       "        vertical-align: middle;\n",
       "    }\n",
       "\n",
       "    .dataframe tbody tr th {\n",
       "        vertical-align: top;\n",
       "    }\n",
       "\n",
       "    .dataframe thead th {\n",
       "        text-align: right;\n",
       "    }\n",
       "</style>\n",
       "<table border=\"1\" class=\"dataframe\">\n",
       "  <thead>\n",
       "    <tr style=\"text-align: right;\">\n",
       "      <th></th>\n",
       "      <th>Region</th>\n",
       "      <th>Country</th>\n",
       "      <th>Item Type</th>\n",
       "      <th>Sales Channel</th>\n",
       "      <th>Order Priority</th>\n",
       "      <th>Order Date</th>\n",
       "      <th>Order ID</th>\n",
       "      <th>Ship Date</th>\n",
       "      <th>Units Sold</th>\n",
       "      <th>Unit Price</th>\n",
       "      <th>Unit Cost</th>\n",
       "      <th>Total Revenue</th>\n",
       "      <th>Total Cost</th>\n",
       "      <th>Total Profit</th>\n",
       "    </tr>\n",
       "  </thead>\n",
       "  <tbody>\n",
       "    <tr>\n",
       "      <th>0</th>\n",
       "      <td>Sub-Saharan Africa</td>\n",
       "      <td>Chad</td>\n",
       "      <td>Office Supplies</td>\n",
       "      <td>Online</td>\n",
       "      <td>L</td>\n",
       "      <td>1/27/2011</td>\n",
       "      <td>292494523</td>\n",
       "      <td>2/12/2011</td>\n",
       "      <td>4484</td>\n",
       "      <td>651.21</td>\n",
       "      <td>524.96</td>\n",
       "      <td>2920025.64</td>\n",
       "      <td>2353920.64</td>\n",
       "      <td>566105.0</td>\n",
       "    </tr>\n",
       "    <tr>\n",
       "      <th>1</th>\n",
       "      <td>Europe</td>\n",
       "      <td>Latvia</td>\n",
       "      <td>Beverages</td>\n",
       "      <td>Online</td>\n",
       "      <td>C</td>\n",
       "      <td>12/28/2015</td>\n",
       "      <td>361825549</td>\n",
       "      <td>1/23/2016</td>\n",
       "      <td>1075</td>\n",
       "      <td>47.45</td>\n",
       "      <td>31.79</td>\n",
       "      <td>51008.75</td>\n",
       "      <td>34174.25</td>\n",
       "      <td>16834.5</td>\n",
       "    </tr>\n",
       "  </tbody>\n",
       "</table>\n",
       "</div>"
      ],
      "text/plain": [
       "               Region Country        Item Type Sales Channel Order Priority  \\\n",
       "0  Sub-Saharan Africa    Chad  Office Supplies        Online              L   \n",
       "1              Europe  Latvia        Beverages        Online              C   \n",
       "\n",
       "   Order Date   Order ID  Ship Date  Units Sold  Unit Price  Unit Cost  \\\n",
       "0   1/27/2011  292494523  2/12/2011        4484      651.21     524.96   \n",
       "1  12/28/2015  361825549  1/23/2016        1075       47.45      31.79   \n",
       "\n",
       "   Total Revenue  Total Cost  Total Profit  \n",
       "0     2920025.64  2353920.64      566105.0  \n",
       "1       51008.75    34174.25       16834.5  "
      ]
     },
     "execution_count": 3,
     "metadata": {},
     "output_type": "execute_result"
    }
   ],
   "source": [
    "sales.head(2)"
   ]
  },
  {
   "cell_type": "code",
   "execution_count": 18,
   "metadata": {},
   "outputs": [],
   "source": [
    "sales['Order Date'] = pd.to_datetime(sales['Order Date'], format='%Y-%m-%d')"
   ]
  },
  {
   "cell_type": "code",
   "execution_count": 19,
   "metadata": {},
   "outputs": [
    {
     "name": "stdout",
     "output_type": "stream",
     "text": [
      "<class 'pandas.core.frame.DataFrame'>\n",
      "RangeIndex: 10000 entries, 0 to 9999\n",
      "Data columns (total 15 columns):\n",
      " #   Column          Non-Null Count  Dtype         \n",
      "---  ------          --------------  -----         \n",
      " 0   Region          10000 non-null  object        \n",
      " 1   Country         10000 non-null  object        \n",
      " 2   Item Type       10000 non-null  object        \n",
      " 3   Sales Channel   10000 non-null  object        \n",
      " 4   Order Priority  10000 non-null  object        \n",
      " 5   Order Date      10000 non-null  datetime64[ns]\n",
      " 6   Order ID        10000 non-null  int64         \n",
      " 7   Ship Date       10000 non-null  object        \n",
      " 8   Units Sold      10000 non-null  int64         \n",
      " 9   Unit Price      10000 non-null  float64       \n",
      " 10  Unit Cost       10000 non-null  float64       \n",
      " 11  Total Revenue   10000 non-null  float64       \n",
      " 12  Total Cost      10000 non-null  float64       \n",
      " 13  Total Profit    10000 non-null  float64       \n",
      " 14  Order Week      10000 non-null  object        \n",
      "dtypes: datetime64[ns](1), float64(5), int64(2), object(7)\n",
      "memory usage: 1.1+ MB\n"
     ]
    }
   ],
   "source": [
    "sales.info()"
   ]
  },
  {
   "cell_type": "code",
   "execution_count": 20,
   "metadata": {},
   "outputs": [],
   "source": [
    "sales['Order Week'] = sales['Order Date'].dt.day_name()"
   ]
  },
  {
   "cell_type": "code",
   "execution_count": 21,
   "metadata": {},
   "outputs": [
    {
     "data": {
      "text/html": [
       "<div>\n",
       "<style scoped>\n",
       "    .dataframe tbody tr th:only-of-type {\n",
       "        vertical-align: middle;\n",
       "    }\n",
       "\n",
       "    .dataframe tbody tr th {\n",
       "        vertical-align: top;\n",
       "    }\n",
       "\n",
       "    .dataframe thead th {\n",
       "        text-align: right;\n",
       "    }\n",
       "</style>\n",
       "<table border=\"1\" class=\"dataframe\">\n",
       "  <thead>\n",
       "    <tr style=\"text-align: right;\">\n",
       "      <th></th>\n",
       "      <th>Region</th>\n",
       "      <th>Country</th>\n",
       "      <th>Item Type</th>\n",
       "      <th>Sales Channel</th>\n",
       "      <th>Order Priority</th>\n",
       "      <th>Order Date</th>\n",
       "      <th>Order ID</th>\n",
       "      <th>Ship Date</th>\n",
       "      <th>Units Sold</th>\n",
       "      <th>Unit Price</th>\n",
       "      <th>Unit Cost</th>\n",
       "      <th>Total Revenue</th>\n",
       "      <th>Total Cost</th>\n",
       "      <th>Total Profit</th>\n",
       "      <th>Order Week</th>\n",
       "    </tr>\n",
       "  </thead>\n",
       "  <tbody>\n",
       "    <tr>\n",
       "      <th>0</th>\n",
       "      <td>Sub-Saharan Africa</td>\n",
       "      <td>Chad</td>\n",
       "      <td>Office Supplies</td>\n",
       "      <td>Online</td>\n",
       "      <td>L</td>\n",
       "      <td>2011-01-27</td>\n",
       "      <td>292494523</td>\n",
       "      <td>2/12/2011</td>\n",
       "      <td>4484</td>\n",
       "      <td>651.21</td>\n",
       "      <td>524.96</td>\n",
       "      <td>2920025.64</td>\n",
       "      <td>2353920.64</td>\n",
       "      <td>566105.0</td>\n",
       "      <td>Thursday</td>\n",
       "    </tr>\n",
       "    <tr>\n",
       "      <th>1</th>\n",
       "      <td>Europe</td>\n",
       "      <td>Latvia</td>\n",
       "      <td>Beverages</td>\n",
       "      <td>Online</td>\n",
       "      <td>C</td>\n",
       "      <td>2015-12-28</td>\n",
       "      <td>361825549</td>\n",
       "      <td>1/23/2016</td>\n",
       "      <td>1075</td>\n",
       "      <td>47.45</td>\n",
       "      <td>31.79</td>\n",
       "      <td>51008.75</td>\n",
       "      <td>34174.25</td>\n",
       "      <td>16834.5</td>\n",
       "      <td>Monday</td>\n",
       "    </tr>\n",
       "  </tbody>\n",
       "</table>\n",
       "</div>"
      ],
      "text/plain": [
       "               Region Country        Item Type Sales Channel Order Priority  \\\n",
       "0  Sub-Saharan Africa    Chad  Office Supplies        Online              L   \n",
       "1              Europe  Latvia        Beverages        Online              C   \n",
       "\n",
       "  Order Date   Order ID  Ship Date  Units Sold  Unit Price  Unit Cost  \\\n",
       "0 2011-01-27  292494523  2/12/2011        4484      651.21     524.96   \n",
       "1 2015-12-28  361825549  1/23/2016        1075       47.45      31.79   \n",
       "\n",
       "   Total Revenue  Total Cost  Total Profit Order Week  \n",
       "0     2920025.64  2353920.64      566105.0   Thursday  \n",
       "1       51008.75    34174.25       16834.5     Monday  "
      ]
     },
     "execution_count": 21,
     "metadata": {},
     "output_type": "execute_result"
    }
   ],
   "source": [
    "sales.head(2)"
   ]
  },
  {
   "cell_type": "code",
   "execution_count": 22,
   "metadata": {},
   "outputs": [
    {
     "name": "stderr",
     "output_type": "stream",
     "text": [
      "C:\\Users\\ssjjk\\AppData\\Local\\Temp\\ipykernel_14380\\2880723224.py:1: FutureWarning: ['Region', 'Item Type', 'Sales Channel', 'Order Priority', 'Order Date', 'Ship Date'] did not aggregate successfully. If any error is raised this will raise in a future version of pandas. Drop these columns/ops to avoid this warning.\n",
      "  sales_group = sales.groupby(['Country', 'Order Week']).agg(['mean','sum'])['Total Profit']\n"
     ]
    }
   ],
   "source": [
    "sales_group = sales.groupby(['Country', 'Order Week']).agg(['mean','sum'])['Total Profit']\n",
    "\n"
   ]
  },
  {
   "cell_type": "code",
   "execution_count": 24,
   "metadata": {},
   "outputs": [
    {
     "data": {
      "text/html": [
       "<div>\n",
       "<style scoped>\n",
       "    .dataframe tbody tr th:only-of-type {\n",
       "        vertical-align: middle;\n",
       "    }\n",
       "\n",
       "    .dataframe tbody tr th {\n",
       "        vertical-align: top;\n",
       "    }\n",
       "\n",
       "    .dataframe thead th {\n",
       "        text-align: right;\n",
       "    }\n",
       "</style>\n",
       "<table border=\"1\" class=\"dataframe\">\n",
       "  <thead>\n",
       "    <tr style=\"text-align: right;\">\n",
       "      <th></th>\n",
       "      <th></th>\n",
       "      <th>mean</th>\n",
       "      <th>sum</th>\n",
       "    </tr>\n",
       "    <tr>\n",
       "      <th>Country</th>\n",
       "      <th>Order Week</th>\n",
       "      <th></th>\n",
       "      <th></th>\n",
       "    </tr>\n",
       "  </thead>\n",
       "  <tbody>\n",
       "    <tr>\n",
       "      <th rowspan=\"5\" valign=\"top\">Afghanistan</th>\n",
       "      <th>Friday</th>\n",
       "      <td>376621.976364</td>\n",
       "      <td>4142841.74</td>\n",
       "    </tr>\n",
       "    <tr>\n",
       "      <th>Monday</th>\n",
       "      <td>278274.641818</td>\n",
       "      <td>3061021.06</td>\n",
       "    </tr>\n",
       "    <tr>\n",
       "      <th>Saturday</th>\n",
       "      <td>331002.587273</td>\n",
       "      <td>3641028.46</td>\n",
       "    </tr>\n",
       "    <tr>\n",
       "      <th>Sunday</th>\n",
       "      <td>605732.007500</td>\n",
       "      <td>2422928.03</td>\n",
       "    </tr>\n",
       "    <tr>\n",
       "      <th>Thursday</th>\n",
       "      <td>304958.776667</td>\n",
       "      <td>914876.33</td>\n",
       "    </tr>\n",
       "    <tr>\n",
       "      <th>...</th>\n",
       "      <th>...</th>\n",
       "      <td>...</td>\n",
       "      <td>...</td>\n",
       "    </tr>\n",
       "    <tr>\n",
       "      <th rowspan=\"5\" valign=\"top\">Zimbabwe</th>\n",
       "      <th>Saturday</th>\n",
       "      <td>114521.195000</td>\n",
       "      <td>916169.56</td>\n",
       "    </tr>\n",
       "    <tr>\n",
       "      <th>Sunday</th>\n",
       "      <td>449273.867143</td>\n",
       "      <td>3144917.07</td>\n",
       "    </tr>\n",
       "    <tr>\n",
       "      <th>Thursday</th>\n",
       "      <td>249511.857143</td>\n",
       "      <td>1746583.00</td>\n",
       "    </tr>\n",
       "    <tr>\n",
       "      <th>Tuesday</th>\n",
       "      <td>217007.090000</td>\n",
       "      <td>1519049.63</td>\n",
       "    </tr>\n",
       "    <tr>\n",
       "      <th>Wednesday</th>\n",
       "      <td>506777.501875</td>\n",
       "      <td>8108440.03</td>\n",
       "    </tr>\n",
       "  </tbody>\n",
       "</table>\n",
       "<p>1294 rows × 2 columns</p>\n",
       "</div>"
      ],
      "text/plain": [
       "                                 mean         sum\n",
       "Country     Order Week                           \n",
       "Afghanistan Friday      376621.976364  4142841.74\n",
       "            Monday      278274.641818  3061021.06\n",
       "            Saturday    331002.587273  3641028.46\n",
       "            Sunday      605732.007500  2422928.03\n",
       "            Thursday    304958.776667   914876.33\n",
       "...                               ...         ...\n",
       "Zimbabwe    Saturday    114521.195000   916169.56\n",
       "            Sunday      449273.867143  3144917.07\n",
       "            Thursday    249511.857143  1746583.00\n",
       "            Tuesday     217007.090000  1519049.63\n",
       "            Wednesday   506777.501875  8108440.03\n",
       "\n",
       "[1294 rows x 2 columns]"
      ]
     },
     "execution_count": 24,
     "metadata": {},
     "output_type": "execute_result"
    }
   ],
   "source": [
    "sales_group"
   ]
  },
  {
   "attachments": {},
   "cell_type": "markdown",
   "metadata": {},
   "source": [
    "# corona\n",
    "1. 파일 로드\n",
    "2. createDt 시계열데이터로 변경\n",
    "3. 요일 컬럼 생성 요일 대입\n",
    "4. createDt를 기준으로 오름차순 정렬\n",
    "5. 일일 확진자 컬럼 생성 decideCnt의 차이를 대입\n",
    "6. 요일별 일일확진자의 평균값 출력\n",
    "7. 요일별 일일 확진자를 시각화 (바형 그래프)"
   ]
  },
  {
   "cell_type": "code",
   "execution_count": 25,
   "metadata": {},
   "outputs": [
    {
     "data": {
      "text/html": [
       "<div>\n",
       "<style scoped>\n",
       "    .dataframe tbody tr th:only-of-type {\n",
       "        vertical-align: middle;\n",
       "    }\n",
       "\n",
       "    .dataframe tbody tr th {\n",
       "        vertical-align: top;\n",
       "    }\n",
       "\n",
       "    .dataframe thead th {\n",
       "        text-align: right;\n",
       "    }\n",
       "</style>\n",
       "<table border=\"1\" class=\"dataframe\">\n",
       "  <thead>\n",
       "    <tr style=\"text-align: right;\">\n",
       "      <th></th>\n",
       "      <th>Unnamed: 0</th>\n",
       "      <th>createDt</th>\n",
       "      <th>deathCnt</th>\n",
       "      <th>decideCnt</th>\n",
       "      <th>seq</th>\n",
       "      <th>stateDt</th>\n",
       "      <th>stateTime</th>\n",
       "      <th>updateDt</th>\n",
       "      <th>accExamCnt</th>\n",
       "      <th>accDefRate</th>\n",
       "    </tr>\n",
       "  </thead>\n",
       "  <tbody>\n",
       "    <tr>\n",
       "      <th>0</th>\n",
       "      <td>0</td>\n",
       "      <td>2022-06-08 09:09:05.982</td>\n",
       "      <td>24305</td>\n",
       "      <td>18188200</td>\n",
       "      <td>904</td>\n",
       "      <td>20220608</td>\n",
       "      <td>00:00</td>\n",
       "      <td>NaN</td>\n",
       "      <td>NaN</td>\n",
       "      <td>NaN</td>\n",
       "    </tr>\n",
       "    <tr>\n",
       "      <th>1</th>\n",
       "      <td>1</td>\n",
       "      <td>2022-06-07 09:09:00.897</td>\n",
       "      <td>24299</td>\n",
       "      <td>18174842</td>\n",
       "      <td>903</td>\n",
       "      <td>20220607</td>\n",
       "      <td>00:00</td>\n",
       "      <td>2022-06-08 09:10:36.846</td>\n",
       "      <td>NaN</td>\n",
       "      <td>NaN</td>\n",
       "    </tr>\n",
       "    <tr>\n",
       "      <th>2</th>\n",
       "      <td>2</td>\n",
       "      <td>2022-06-06 09:00:06.734</td>\n",
       "      <td>24279</td>\n",
       "      <td>18168670</td>\n",
       "      <td>902</td>\n",
       "      <td>20220606</td>\n",
       "      <td>00:00</td>\n",
       "      <td>2022-06-08 09:10:50.441</td>\n",
       "      <td>NaN</td>\n",
       "      <td>NaN</td>\n",
       "    </tr>\n",
       "    <tr>\n",
       "      <th>3</th>\n",
       "      <td>3</td>\n",
       "      <td>2022-06-05 08:53:19.426</td>\n",
       "      <td>24258</td>\n",
       "      <td>18163648</td>\n",
       "      <td>901</td>\n",
       "      <td>20220605</td>\n",
       "      <td>00:00</td>\n",
       "      <td>2022-06-08 09:11:04.758</td>\n",
       "      <td>NaN</td>\n",
       "      <td>NaN</td>\n",
       "    </tr>\n",
       "    <tr>\n",
       "      <th>4</th>\n",
       "      <td>4</td>\n",
       "      <td>2022-06-04 08:56:49.219</td>\n",
       "      <td>24238</td>\n",
       "      <td>18153814</td>\n",
       "      <td>900</td>\n",
       "      <td>20220604</td>\n",
       "      <td>00:00</td>\n",
       "      <td>2022-06-08 09:11:26.303</td>\n",
       "      <td>NaN</td>\n",
       "      <td>NaN</td>\n",
       "    </tr>\n",
       "  </tbody>\n",
       "</table>\n",
       "</div>"
      ],
      "text/plain": [
       "   Unnamed: 0                 createDt  deathCnt  decideCnt  seq   stateDt  \\\n",
       "0           0  2022-06-08 09:09:05.982     24305   18188200  904  20220608   \n",
       "1           1  2022-06-07 09:09:00.897     24299   18174842  903  20220607   \n",
       "2           2  2022-06-06 09:00:06.734     24279   18168670  902  20220606   \n",
       "3           3  2022-06-05 08:53:19.426     24258   18163648  901  20220605   \n",
       "4           4  2022-06-04 08:56:49.219     24238   18153814  900  20220604   \n",
       "\n",
       "  stateTime                 updateDt  accExamCnt  accDefRate  \n",
       "0     00:00                      NaN         NaN         NaN  \n",
       "1     00:00  2022-06-08 09:10:36.846         NaN         NaN  \n",
       "2     00:00  2022-06-08 09:10:50.441         NaN         NaN  \n",
       "3     00:00  2022-06-08 09:11:04.758         NaN         NaN  \n",
       "4     00:00  2022-06-08 09:11:26.303         NaN         NaN  "
      ]
     },
     "execution_count": 25,
     "metadata": {},
     "output_type": "execute_result"
    }
   ],
   "source": [
    "corona = pd.read_csv('../csv/corona.csv')\n",
    "corona.head()"
   ]
  },
  {
   "cell_type": "code",
   "execution_count": 26,
   "metadata": {},
   "outputs": [],
   "source": [
    "import matplotlib.pyplot as plt"
   ]
  },
  {
   "cell_type": "code",
   "execution_count": 28,
   "metadata": {},
   "outputs": [],
   "source": [
    "corona['createDt'] = pd.to_datetime(corona['createDt'], format = '%Y-%m-%d')"
   ]
  },
  {
   "cell_type": "code",
   "execution_count": 29,
   "metadata": {},
   "outputs": [],
   "source": [
    "corona['요일'] = corona['createDt'].dt.day_name()"
   ]
  },
  {
   "cell_type": "code",
   "execution_count": 36,
   "metadata": {},
   "outputs": [],
   "source": [
    "corona.sort_values('createDt',inplace=True)"
   ]
  },
  {
   "cell_type": "code",
   "execution_count": 37,
   "metadata": {},
   "outputs": [],
   "source": [
    "corona['일일확진자'] = corona['decideCnt'].diff()"
   ]
  },
  {
   "cell_type": "code",
   "execution_count": 43,
   "metadata": {},
   "outputs": [
    {
     "name": "stderr",
     "output_type": "stream",
     "text": [
      "C:\\Users\\ssjjk\\AppData\\Local\\Temp\\ipykernel_14380\\3791252285.py:1: FutureWarning: The default value of numeric_only in DataFrameGroupBy.mean is deprecated. In a future version, numeric_only will default to False. Either specify numeric_only or select only columns which should be valid for the function.\n",
      "  mean = corona.groupby('요일').mean()[['일일확진자']]\n"
     ]
    }
   ],
   "source": [
    "mean = corona.groupby('요일').mean()[['일일확진자']]"
   ]
  },
  {
   "cell_type": "code",
   "execution_count": 44,
   "metadata": {},
   "outputs": [
    {
     "data": {
      "text/html": [
       "<div>\n",
       "<style scoped>\n",
       "    .dataframe tbody tr th:only-of-type {\n",
       "        vertical-align: middle;\n",
       "    }\n",
       "\n",
       "    .dataframe tbody tr th {\n",
       "        vertical-align: top;\n",
       "    }\n",
       "\n",
       "    .dataframe thead th {\n",
       "        text-align: right;\n",
       "    }\n",
       "</style>\n",
       "<table border=\"1\" class=\"dataframe\">\n",
       "  <thead>\n",
       "    <tr style=\"text-align: right;\">\n",
       "      <th></th>\n",
       "      <th>일일확진자</th>\n",
       "    </tr>\n",
       "    <tr>\n",
       "      <th>요일</th>\n",
       "      <th></th>\n",
       "    </tr>\n",
       "  </thead>\n",
       "  <tbody>\n",
       "    <tr>\n",
       "      <th>Friday</th>\n",
       "      <td>22542.854701</td>\n",
       "    </tr>\n",
       "    <tr>\n",
       "      <th>Monday</th>\n",
       "      <td>14862.586207</td>\n",
       "    </tr>\n",
       "    <tr>\n",
       "      <th>Saturday</th>\n",
       "      <td>22555.948718</td>\n",
       "    </tr>\n",
       "    <tr>\n",
       "      <th>Sunday</th>\n",
       "      <td>20628.745763</td>\n",
       "    </tr>\n",
       "    <tr>\n",
       "      <th>Thursday</th>\n",
       "      <td>25776.267241</td>\n",
       "    </tr>\n",
       "    <tr>\n",
       "      <th>Tuesday</th>\n",
       "      <td>21969.837607</td>\n",
       "    </tr>\n",
       "    <tr>\n",
       "      <th>Wednesday</th>\n",
       "      <td>26994.550847</td>\n",
       "    </tr>\n",
       "  </tbody>\n",
       "</table>\n",
       "</div>"
      ],
      "text/plain": [
       "                  일일확진자\n",
       "요일                     \n",
       "Friday     22542.854701\n",
       "Monday     14862.586207\n",
       "Saturday   22555.948718\n",
       "Sunday     20628.745763\n",
       "Thursday   25776.267241\n",
       "Tuesday    21969.837607\n",
       "Wednesday  26994.550847"
      ]
     },
     "execution_count": 44,
     "metadata": {},
     "output_type": "execute_result"
    }
   ],
   "source": [
    "mean"
   ]
  },
  {
   "cell_type": "code",
   "execution_count": 47,
   "metadata": {},
   "outputs": [
    {
     "data": {
      "image/png": "[encoded data removed]",
      "text/plain": [
       "<Figure size 640x480 with 1 Axes>"
      ]
     },
     "metadata": {},
     "output_type": "display_data"
    }
   ],
   "source": [
    "x = mean.index\n",
    "y = mean['일일확진자']\n",
    "\n",
    "plt.bar(x,y)\n",
    "plt.show()"
   ]
  }
 ],
 "metadata": {
  "kernelspec": {
   "display_name": "Python 3",
   "language": "python",
   "name": "python3"
  },
  "language_info": {
   "codemirror_mode": {
    "name": "ipython",
    "version": 3
   },
   "file_extension": ".py",
   "mimetype": "text/x-python",
   "name": "python",
   "nbconvert_exporter": "python",
   "pygments_lexer": "ipython3",
   "version": "3.8.7"
  },
  "orig_nbformat": 4,
  "vscode": {
   "interpreter": {
    "hash": "6ed46fb23ec5ee126807269f2acaff06427feb3c20a806d580a6668d43174b65"
   }
  }
 },
 "nbformat": 4,
 "nbformat_minor": 2
}
