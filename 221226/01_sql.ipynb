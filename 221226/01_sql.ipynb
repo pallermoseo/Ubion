{
 "cells": [
  {
   "attachments": {},
   "cell_type": "markdown",
   "metadata": {},
   "source": [
    "# mysql과 python의 연동\n",
    "1. 라이브러리 설치\n",
    "2. sql 서버의 정보 입력\n",
    "3. sql 서버에 접속\n",
    "4. sql 쿼리문을 이용하여 데이터를 CRUD 작업"
   ]
  },
  {
   "cell_type": "code",
   "execution_count": 1,
   "metadata": {},
   "outputs": [
    {
     "name": "stdout",
     "output_type": "stream",
     "text": [
      "Collecting pymysql\n",
      "  Using cached PyMySQL-1.0.2-py3-none-any.whl (43 kB)\n",
      "Installing collected packages: pymysql\n",
      "Successfully installed pymysql-1.0.2\n",
      "Note: you may need to restart the kernel to use updated packages.\n"
     ]
    }
   ],
   "source": [
    "# mysql 라이브러리 설치\n",
    "%pip install pymysql"
   ]
  },
  {
   "cell_type": "code",
   "execution_count": 2,
   "metadata": {},
   "outputs": [],
   "source": [
    "import pymysql\n",
    "import pandas as pd"
   ]
  },
  {
   "cell_type": "code",
   "execution_count": null,
   "metadata": {},
   "outputs": [],
   "source": [
    "# sql 서버 정보 입력 -> DB 접속\n",
    "user = _db = pymysql.connect(\n",
    "    user = 'root', \n",
    "    password = \"1234\", \n",
    "    host = \"localhost\", \n",
    "    db = \"ubion\", \n",
    "    port = 3306)"
   ]
  },
  {
   "cell_type": "code",
   "execution_count": null,
   "metadata": {},
   "outputs": [],
   "source": [
    "# cursor 변수\n",
    "# sql 쿼리문을 실행시키기 위해 만들어야되는 필수 변수\n",
    "# DictCursor 는 sql 쿼리문이 실행되고 나온 데이터를 딕셔너리 형태로 받는다.\n",
    "cursor = _db.cursor(pymysql.cursors.DictCursor)"
   ]
  },
  {
   "cell_type": "code",
   "execution_count": null,
   "metadata": {},
   "outputs": [],
   "source": [
    "sql = '''\n",
    "        select \n",
    "        * \n",
    "        from \n",
    "        user_info\n",
    "      '''\n",
    "\n",
    "cursor.execute(sql)\n",
    "\n",
    "result = cursor.fetchall()\n",
    "print(result)\n"
   ]
  },
  {
   "cell_type": "code",
   "execution_count": null,
   "metadata": {},
   "outputs": [],
   "source": [
    "pd.DataFrame(result)"
   ]
  },
  {
   "cell_type": "code",
   "execution_count": null,
   "metadata": {},
   "outputs": [],
   "source": [
    "sql = '''\n",
    "        insert into\n",
    "        user_info(id, name, age)\n",
    "        values\n",
    "        ('test2', 'kim', 30)\n",
    "        '''\n",
    "\n",
    "cursor.execute(sql)"
   ]
  },
  {
   "cell_type": "code",
   "execution_count": null,
   "metadata": {},
   "outputs": [],
   "source": [
    "_db.commit()"
   ]
  },
  {
   "cell_type": "code",
   "execution_count": null,
   "metadata": {},
   "outputs": [],
   "source": [
    "sql = '''\n",
    "        select \n",
    "        createDt as 날짜,\n",
    "        deathCnt as 사망자,\n",
    "        decideCnt as 확진자\n",
    "        from\n",
    "        corona\n",
    "        order by\n",
    "        createDt\n",
    "        '''\n",
    "\n",
    "cursor.execute(sql)\n",
    "result = cursor.fetchall()\n",
    "df = pd.DataFrame(result)\n",
    "df"
   ]
  },
  {
   "attachments": {},
   "cell_type": "markdown",
   "metadata": {},
   "source": [
    "# sql 쿼리문 실행 함수 생성\n",
    "1. select() 함수 생성\n",
    "2. 매개변수는 2개\n",
    "3. 매개변수 sql은 sql 쿼리문을 입력받는 변수\n",
    "4. 매개변수 limit는 기본값은 0\n",
    "5. limit가 0인 경우는 쿼리문의 결과를 전부 보여주고 0이 아닌 경우에는 limit의 개수만큼 행을 보여준다.\n",
    "6. sql 쿼리문을 받아서 실행하고 결과값을 데이터프레임으로 만들어서 리턴"
   ]
  },
  {
   "cell_type": "code",
   "execution_count": null,
   "metadata": {},
   "outputs": [],
   "source": [
    "def select(sql, limit = 0):\n",
    "        #cursor.execute(sql)\n",
    "        #result = cursor.fetchall()\n",
    "        # case1\n",
    "        #if limit != 0:\n",
    "        #       result = result[:limit]\n",
    "        #df = pd.DataFrame(result)\n",
    "        # case2\n",
    "        #if limit != 0:\n",
    "        #        df = pd.DataFrame(result).head(10)\n",
    "        #df = pd.DataFrame(result)\n",
    "        # case3\n",
    "        if limit != 0:\n",
    "                sql = sql + 'limit '+str(limit) #'limit공백'\n",
    "        \n",
    "        cursor.execute(sql)\n",
    "        result = cursor.fetchall()\n",
    "        df = pd.DataFrame(result)\n",
    "\n",
    "        return df\n",
    "\n",
    "sql = \"\"\"\n",
    "        select * from corona\n",
    "\"\"\"\n",
    "\n",
    "\n",
    "select(sql,10)"
   ]
  },
  {
   "attachments": {},
   "cell_type": "markdown",
   "metadata": {},
   "source": [
    "# input을 이용하여 입력받은 데이터 값을 insert\n",
    "1. input 함수를 이용하여 데이터를 4개 받는다.\n",
    "2. insert문을 이용하여 user_info 테이블에 id, name, age, address 항목에 삽입"
   ]
  },
  {
   "cell_type": "code",
   "execution_count": null,
   "metadata": {},
   "outputs": [],
   "source": [
    "_id = input('id: ')\n",
    "_name = input('name: ')\n",
    "_age = input('age: ')\n",
    "_address = input('address: ')\n",
    "\n",
    "sql = f'''\n",
    "        insert into\n",
    "        user_info\n",
    "        values\n",
    "        ('{_id}','{_name}','{_age}','{_address}')\n",
    "    \n",
    "      '''\n",
    "\n",
    "cursor.execute(sql)\n",
    "_db.commit()"
   ]
  },
  {
   "cell_type": "code",
   "execution_count": null,
   "metadata": {},
   "outputs": [],
   "source": [
    "# 데이터베이스와의 접속을 종료\n",
    "_db.close()"
   ]
  },
  {
   "cell_type": "code",
   "execution_count": null,
   "metadata": {},
   "outputs": [],
   "source": [
    "# 외부에 있는 서버와의 접속\n",
    "# root 아이디는 내부에서만 접속이 가능한 아이디\n",
    "_db = pymysql.connect(\n",
    "    user = 'ubion',\n",
    "    password = '1234',\n",
    "    host = '172.16.12.149',\n",
    "    db = 'ubion',\n",
    "    port = 3306\n",
    ")"
   ]
  }
 ],
 "metadata": {
  "kernelspec": {
   "display_name": "Python 3",
   "language": "python",
   "name": "python3"
  },
  "language_info": {
   "codemirror_mode": {
    "name": "ipython",
    "version": 3
   },
   "file_extension": ".py",
   "mimetype": "text/x-python",
   "name": "python",
   "nbconvert_exporter": "python",
   "pygments_lexer": "ipython3",
   "version": "3.11.1"
  },
  "orig_nbformat": 4,
  "vscode": {
   "interpreter": {
    "hash": "1f9024205cc48e5f62389b905109b1856dbfd744c4fe669d63a7eaa6f0de9f6f"
   }
  }
 },
 "nbformat": 4,
 "nbformat_minor": 2
}
