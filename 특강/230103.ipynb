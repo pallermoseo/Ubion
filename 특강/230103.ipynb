{
 "cells": [
  {
   "attachments": {},
   "cell_type": "markdown",
   "metadata": {},
   "source": [
    "# 함수에서 사용되는 변수들\n",
    "1. 전역 변수\n",
    "    - 어디서든 사용이 가능한 변수\n",
    "    - 어디서든 사용이 가능하기에 함수 내에서도 사용 가능\n",
    "    - 전역 변수의 값을 변경하기 어렵다.\n",
    "2. 지역 변수\n",
    "    - 특정한 지역에서 사용이 가능한 변수(함수 내, 클래스 내, for문 내..)\n",
    "    - 지역을 벗어나면 사용이 불가능하다.\n",
    "    - 함수의 경우에는 함수가 실행될때만 변수에 데이터가 저장 / 함수의 실행이 종료되면 변수 역시 삭제(매개변수와 같은 특징)\n",
    "3. 매개 변수\n",
    "    - 특정한 지역에서 사용이 가능한 변수\n",
    "    - 매개변수의 특정 지역은 함수.. 함수에서만 국한된다.\n",
    "    - 함수를 생성하는 경우에 필요에 의해 생성\n",
    "    - 지역 변수와 마찬가지로 지역에서 벗어나면 사용이 불가능"
   ]
  },
  {
   "cell_type": "code",
   "execution_count": 4,
   "metadata": {},
   "outputs": [],
   "source": [
    "# 전역 변수 a를 생성해서 10이라는 값을 대입\n",
    "a = 10\n"
   ]
  },
  {
   "cell_type": "code",
   "execution_count": null,
   "metadata": {},
   "outputs": [],
   "source": [
    "def test():\n",
    "    a+=1\n",
    "    print(a)\n",
    "\n",
    "test() # 전역변수를 return으로 사용할 수 없다."
   ]
  },
  {
   "cell_type": "code",
   "execution_count": null,
   "metadata": {},
   "outputs": [],
   "source": [
    "# 지역변수의 예\n",
    "def test1():\n",
    "    name = 'test'\n",
    "    return name\n",
    "\n",
    "def test2():\n",
    "    print(name)\n",
    "\n",
    "# test1 함수가 들여쓰기가 종료되며 함수 또한 종료되었기 때문에 test2의 name은 지정되지 않음을 알 수 있다."
   ]
  },
  {
   "cell_type": "code",
   "execution_count": 10,
   "metadata": {},
   "outputs": [
    {
     "name": "stdout",
     "output_type": "stream",
     "text": [
      "mmmm\n"
     ]
    }
   ],
   "source": [
    "# 지역변수 / 지역함수 / 전역함수의 예\n",
    "def test1():\n",
    "    name = 'mmmm'\n",
    "    \n",
    "    def test2():\n",
    "        print(name)\n",
    "\n",
    "    test2()\n",
    "\n",
    "test1() \n",
    "\n",
    "# test2 함수는 test1 함수 안의 지역함수기 때문에 test1() 실행이 바로 가능하다."
   ]
  },
  {
   "cell_type": "code",
   "execution_count": 11,
   "metadata": {},
   "outputs": [],
   "source": [
    "# 매개변수\n",
    "# a 라는 매개변수에 대입 할 수 있는 데이터의 타입\n",
    "# 숫자 / 문자 / 리스트 / 딕셔너리 / 함수? / 클래스 / 튜플 /.....\n",
    "def func_1(a):\n",
    "    print(a)"
   ]
  },
  {
   "cell_type": "code",
   "execution_count": null,
   "metadata": {},
   "outputs": [],
   "source": [
    "def func_2(a):\n",
    "    return a\n",
    "def func_3(a, b):\n",
    "    return a\n",
    "\n",
    "func_3(func_2()) # func_2의 a와 func_3의 a는 서로 다르다."
   ]
  },
  {
   "cell_type": "code",
   "execution_count": 18,
   "metadata": {},
   "outputs": [
    {
     "data": {
      "text/plain": [
       "'Hello'"
      ]
     },
     "execution_count": 18,
     "metadata": {},
     "output_type": "execute_result"
    }
   ],
   "source": [
    "def func_2(a):\n",
    "    return a\n",
    "def func_3(b):\n",
    "    return func_2(b)\n",
    "\n",
    "func_3('Hello')"
   ]
  },
  {
   "cell_type": "code",
   "execution_count": 19,
   "metadata": {},
   "outputs": [],
   "source": [
    "class Test:\n",
    "    def __init__(self, _x, _y):\n",
    "        self.x = _x\n",
    "        self.y = _y\n",
    "\n",
    "    def add(self):\n",
    "        return self.x + self.y\n",
    "\n",
    "    def change_x(self, _x):\n",
    "        self.x = _x\n",
    "\n",
    "# _x 는 다 똑같지 않다. 함수가 서로 독립적이기 때문에 _x의 값도 다 독립적."
   ]
  },
  {
   "cell_type": "code",
   "execution_count": 20,
   "metadata": {},
   "outputs": [],
   "source": [
    "class_test = Test(5, 3)"
   ]
  },
  {
   "cell_type": "code",
   "execution_count": 21,
   "metadata": {},
   "outputs": [
    {
     "data": {
      "text/plain": [
       "8"
      ]
     },
     "execution_count": 21,
     "metadata": {},
     "output_type": "execute_result"
    }
   ],
   "source": [
    "class_test.add()"
   ]
  },
  {
   "cell_type": "code",
   "execution_count": 22,
   "metadata": {},
   "outputs": [
    {
     "data": {
      "text/plain": [
       "13"
      ]
     },
     "execution_count": 22,
     "metadata": {},
     "output_type": "execute_result"
    }
   ],
   "source": [
    "class_test.change_x(10)\n",
    "class_test.add()"
   ]
  },
  {
   "cell_type": "code",
   "execution_count": 23,
   "metadata": {},
   "outputs": [],
   "source": [
    "def class_change(a, b):\n",
    "    print(a.add())\n",
    "    a.change_x(b)\n",
    "    print(a.add())\n"
   ]
  },
  {
   "cell_type": "code",
   "execution_count": 24,
   "metadata": {},
   "outputs": [
    {
     "name": "stdout",
     "output_type": "stream",
     "text": [
      "13\n",
      "53\n"
     ]
    }
   ],
   "source": [
    "class_change(class_test, 50)"
   ]
  },
  {
   "cell_type": "code",
   "execution_count": null,
   "metadata": {},
   "outputs": [],
   "source": [
    "print(class_test.add())\n",
    "class_test.change_x(50)\n",
    "print(class_test.add()) ### 위 함수를 풀면 이런 형태"
   ]
  }
 ],
 "metadata": {
  "kernelspec": {
   "display_name": "Python 3",
   "language": "python",
   "name": "python3"
  },
  "language_info": {
   "codemirror_mode": {
    "name": "ipython",
    "version": 3
   },
   "file_extension": ".py",
   "mimetype": "text/x-python",
   "name": "python",
   "nbconvert_exporter": "python",
   "pygments_lexer": "ipython3",
   "version": "3.8.7 (tags/v3.8.7:6503f05, Dec 21 2020, 17:59:51) [MSC v.1928 64 bit (AMD64)]"
  },
  "orig_nbformat": 4,
  "vscode": {
   "interpreter": {
    "hash": "6ed46fb23ec5ee126807269f2acaff06427feb3c20a806d580a6668d43174b65"
   }
  }
 },
 "nbformat": 4,
 "nbformat_minor": 2
}
