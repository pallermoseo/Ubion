{
 "cells": [
  {
   "cell_type": "code",
   "execution_count": 1,
   "metadata": {},
   "outputs": [
    {
     "name": "stdout",
     "output_type": "stream",
     "text": [
      "4\n"
     ]
    }
   ],
   "source": [
    "x=4\n",
    "print(x)"
   ]
  },
  {
   "cell_type": "code",
   "execution_count": 2,
   "metadata": {},
   "outputs": [
    {
     "name": "stdout",
     "output_type": "stream",
     "text": [
      "True\n",
      "True\n"
     ]
    }
   ],
   "source": [
    "a=5\n",
    "print((a<3) or (a<10))\n",
    "print((a>3) or (a<10))"
   ]
  },
  {
   "cell_type": "code",
   "execution_count": 3,
   "metadata": {},
   "outputs": [
    {
     "data": {
      "text/plain": [
       "True"
      ]
     },
     "execution_count": 3,
     "metadata": {},
     "output_type": "execute_result"
    }
   ],
   "source": [
    "not(False) ## not은 부정-> 반대로 출력 False-> True"
   ]
  },
  {
   "cell_type": "code",
   "execution_count": 4,
   "metadata": {},
   "outputs": [
    {
     "name": "stdout",
     "output_type": "stream",
     "text": [
      "a는 10보다 작다\n"
     ]
    }
   ],
   "source": [
    "a=5\n",
    "\n",
    "if a<10:\n",
    "    print('a는 10보다 작다')"
   ]
  },
  {
   "cell_type": "code",
   "execution_count": 5,
   "metadata": {},
   "outputs": [
    {
     "name": "stdout",
     "output_type": "stream",
     "text": [
      "a는 10보다 크다\n"
     ]
    }
   ],
   "source": [
    "a=20\n",
    "\n",
    "if a<10:\n",
    "    print('a는 10보다 작다')\n",
    "else:\n",
    "    print('a는 10보다 크다')\n",
    "\n"
   ]
  },
  {
   "cell_type": "code",
   "execution_count": 6,
   "metadata": {},
   "outputs": [
    {
     "name": "stdout",
     "output_type": "stream",
     "text": [
      "B학점\n",
      "입력이 끝났습니다\n"
     ]
    }
   ],
   "source": [
    "score=int(input('점수를 입력하세요:'))\n",
    "\n",
    "if score>=90:\n",
    "    print('A학점')\n",
    "elif score>=80:\n",
    "    print('B학점')\n",
    "elif score>=70:\n",
    "    print('C학점')\n",
    "elif score>=60:\n",
    "    print('D학점')\n",
    "else:\n",
    "    print('F학점')\n",
    "print('입력이 끝났습니다')"
   ]
  },
  {
   "cell_type": "code",
   "execution_count": 7,
   "metadata": {},
   "outputs": [
    {
     "name": "stdout",
     "output_type": "stream",
     "text": [
      "6\n"
     ]
    }
   ],
   "source": [
    "a=5\n",
    "a+=1\n",
    "\n",
    "print(a)"
   ]
  },
  {
   "cell_type": "code",
   "execution_count": 8,
   "metadata": {},
   "outputs": [
    {
     "name": "stdout",
     "output_type": "stream",
     "text": [
      "0,1,2,3,4,"
     ]
    }
   ],
   "source": [
    "for i in range(5):\n",
    "    print(i,end=',')"
   ]
  },
  {
   "cell_type": "code",
   "execution_count": 9,
   "metadata": {},
   "outputs": [
    {
     "name": "stdout",
     "output_type": "stream",
     "text": [
      "반복문 입니다.\n",
      "반복문 입니다.\n",
      "반복문 입니다.\n",
      "반복문 입니다.\n",
      "반복문 입니다.\n"
     ]
    }
   ],
   "source": [
    "for i in range(0,5,1):\n",
    "    print('반복문 입니다.')"
   ]
  },
  {
   "cell_type": "code",
   "execution_count": 10,
   "metadata": {},
   "outputs": [
    {
     "name": "stdout",
     "output_type": "stream",
     "text": [
      "1부터 10까지의 합은 55\n"
     ]
    }
   ],
   "source": [
    "#1부터 10까지의 합계\n",
    "\n",
    "sum=0\n",
    "\n",
    "for i in range(1,11):\n",
    "    sum+=i #sum=sum+i\n",
    "    \n",
    "print('1부터 10까지의 합은',sum)\n"
   ]
  },
  {
   "cell_type": "code",
   "execution_count": 11,
   "metadata": {},
   "outputs": [
    {
     "name": "stdout",
     "output_type": "stream",
     "text": [
      "1부터 50까지의 짝수의 합계는 650\n"
     ]
    }
   ],
   "source": [
    "#1부터 50까지의 짝수의 합계\n",
    "\n",
    "sum=0\n",
    "\n",
    "for i in range(1,51):\n",
    "    if i%2==0:\n",
    "        sum+=i\n",
    "      \n",
    "print('1부터 50까지의 짝수의 합계는',sum)"
   ]
  },
  {
   "cell_type": "code",
   "execution_count": 12,
   "metadata": {},
   "outputs": [
    {
     "name": "stdout",
     "output_type": "stream",
     "text": [
      "4 6\n",
      "5 5\n",
      "6 4\n"
     ]
    }
   ],
   "source": [
    "## 주사위 2개의 합이 10인 경우의 수를 출력하시오.\n",
    "## 다중 for문 이용 - for i in range(): for j in range():\n",
    "\n",
    "for i in range(1,7):\n",
    "    for j in range(1,7):\n",
    "        if i+j==10:\n",
    "            print(i,j)\n",
    "\n"
   ]
  },
  {
   "cell_type": "code",
   "execution_count": 13,
   "metadata": {},
   "outputs": [
    {
     "name": "stdout",
     "output_type": "stream",
     "text": [
      "1\n",
      "2\n",
      "3\n",
      "4\n",
      "5\n",
      "6\n"
     ]
    }
   ],
   "source": [
    "## break문\n",
    "for i in range(1,100,1):\n",
    "    if i ==7:\n",
    "        break\n",
    "    print(i)"
   ]
  },
  {
   "cell_type": "code",
   "execution_count": 14,
   "metadata": {},
   "outputs": [
    {
     "name": "stdout",
     "output_type": "stream",
     "text": [
      "1\n",
      "2\n",
      "3\n",
      "4\n",
      "5\n",
      "6\n",
      "7\n"
     ]
    }
   ],
   "source": [
    "## break문\n",
    "for i in range(1,100,1):\n",
    "    print(i)\n",
    "    if i ==7:\n",
    "        break\n",
    "    "
   ]
  },
  {
   "cell_type": "code",
   "execution_count": 15,
   "metadata": {},
   "outputs": [
    {
     "name": "stdout",
     "output_type": "stream",
     "text": [
      "2X1=2\n",
      "2X2=4\n",
      "2X3=6\n",
      "2X4=8\n",
      "2X5=10\n",
      "2X6=12\n",
      "2X7=14\n",
      "2X8=16\n",
      "2X9=18\n",
      "3X1=3\n",
      "3X2=6\n",
      "3X3=9\n",
      "3X4=12\n",
      "3X5=15\n",
      "3X6=18\n",
      "3X7=21\n",
      "3X8=24\n",
      "3X9=27\n",
      "4X1=4\n",
      "4X2=8\n",
      "4X3=12\n",
      "4X4=16\n",
      "4X5=20\n",
      "4X6=24\n",
      "4X7=28\n",
      "4X8=32\n",
      "4X9=36\n",
      "5X1=5\n",
      "5X2=10\n",
      "5X3=15\n",
      "5X4=20\n",
      "5X5=25\n",
      "5X6=30\n",
      "5X7=35\n",
      "5X8=40\n",
      "5X9=45\n",
      "6X1=6\n",
      "6X2=12\n",
      "6X3=18\n",
      "6X4=24\n",
      "6X5=30\n",
      "6X6=36\n",
      "6X7=42\n",
      "6X8=48\n",
      "6X9=54\n",
      "7X1=7\n",
      "7X2=14\n",
      "7X3=21\n",
      "7X4=28\n",
      "7X5=35\n",
      "7X6=42\n",
      "7X7=49\n",
      "7X8=56\n",
      "7X9=63\n",
      "8X1=8\n",
      "8X2=16\n",
      "8X3=24\n",
      "8X4=32\n",
      "8X5=40\n",
      "8X6=48\n",
      "8X7=56\n",
      "8X8=64\n",
      "8X9=72\n",
      "9X1=9\n",
      "9X2=18\n",
      "9X3=27\n",
      "9X4=36\n",
      "9X5=45\n",
      "9X6=54\n",
      "9X7=63\n",
      "9X8=72\n",
      "9X9=81\n"
     ]
    }
   ],
   "source": [
    "for i in range(2,10):\n",
    "    for j in range(1,10):\n",
    "        print('{}X{}={}'.format(i,j,i*j))"
   ]
  },
  {
   "cell_type": "code",
   "execution_count": 16,
   "metadata": {},
   "outputs": [
    {
     "name": "stdout",
     "output_type": "stream",
     "text": [
      "42\n"
     ]
    }
   ],
   "source": [
    "#1에서 1000까지의 합을 구하는데 합계가 900이 넘어가는 최초의 숫자는 무엇인가?\n",
    "#1.합계라는 변수를 하나 지정 0을 대입\n",
    "#2. for, while문을 이용하여 1부터 1000까지의 합계를 구하는 반복문 생성\n",
    "#3. 합계가 900이 넘어가는 지점에 i의 값을 출력\n",
    "#4. i값을 출력한 후, 반복문 종료\n",
    "\n",
    "#for clause\n",
    "sum=0\n",
    "\n",
    "for i in range(1,1001):\n",
    "    sum+=i\n",
    "    if sum>=900:\n",
    "        print(i)\n",
    "        break\n",
    "    \n"
   ]
  },
  {
   "cell_type": "code",
   "execution_count": 17,
   "metadata": {},
   "outputs": [
    {
     "name": "stdout",
     "output_type": "stream",
     "text": [
      "42\n"
     ]
    }
   ],
   "source": [
    "#while clause\n",
    "sum=0\n",
    "i=1\n",
    "while i<=1000:\n",
    "    sum+=i\n",
    "    if sum>=900:\n",
    "        print(i)\n",
    "        break\n",
    "    i+=1\n",
    "\n",
    "       \n",
    "    "
   ]
  },
  {
   "cell_type": "code",
   "execution_count": 18,
   "metadata": {},
   "outputs": [
    {
     "name": "stdout",
     "output_type": "stream",
     "text": [
      "(10, 'test') (3, 3.14) (10, 'test', 3, 3.14) (10, 'test', 10, 'test', 10, 'test')\n"
     ]
    }
   ],
   "source": [
    "# 튜플 데이터의 형태\n",
    "\n",
    "a=(10,'test')\n",
    "b=(3,3.14)\n",
    "c=a+b\n",
    "d=a*3\n",
    "\n",
    "print(a,b,c,d)\n"
   ]
  },
  {
   "cell_type": "code",
   "execution_count": 19,
   "metadata": {},
   "outputs": [
    {
     "name": "stdout",
     "output_type": "stream",
     "text": [
      "10\n"
     ]
    }
   ],
   "source": [
    "#a라는 변수에서 10이라는 원소 값 하나만 출력\n",
    "\n",
    "print(a[0])"
   ]
  },
  {
   "cell_type": "code",
   "execution_count": 20,
   "metadata": {},
   "outputs": [
    {
     "name": "stdout",
     "output_type": "stream",
     "text": [
      "(20, 30, 40, 50)\n",
      "(20, 30, 40, 50)\n"
     ]
    }
   ],
   "source": [
    "#a라는 튜플에서 2번째 원소부터 4번째 원소까지 출력하려면?\n",
    "a=(10,20,30,40,50)\n",
    "print(a[1:5])\n",
    "print(a[1:])"
   ]
  },
  {
   "cell_type": "code",
   "execution_count": 21,
   "metadata": {},
   "outputs": [
    {
     "name": "stdout",
     "output_type": "stream",
     "text": [
      "(10, 20, 30)\n"
     ]
    }
   ],
   "source": [
    "#a 튜플에서 처음부터 3번째 원소까지 출력\n",
    "print(a[:3])"
   ]
  },
  {
   "cell_type": "code",
   "execution_count": 22,
   "metadata": {},
   "outputs": [
    {
     "name": "stdout",
     "output_type": "stream",
     "text": [
      "[20, 10, 70, 50, 30]\n",
      "[10, 20, 60, 70, 80]\n"
     ]
    }
   ],
   "source": [
    "#리스트 형태\n",
    "\n",
    "a=[20,10,70,50,30]\n",
    "b=[10,20,60,70,80]\n",
    "\n",
    "print(a)\n",
    "print(b)"
   ]
  },
  {
   "cell_type": "code",
   "execution_count": 23,
   "metadata": {},
   "outputs": [
    {
     "name": "stdout",
     "output_type": "stream",
     "text": [
      "[10, 20, 30, 50, 70]\n"
     ]
    }
   ],
   "source": [
    "#리스트에 있는 내장함수\n",
    "#sort() -> 리스트 내부의 원소들을 오름차순으로 정렬\n",
    "\n",
    "a.sort()\n",
    "print(a)"
   ]
  },
  {
   "cell_type": "code",
   "execution_count": 24,
   "metadata": {},
   "outputs": [
    {
     "name": "stdout",
     "output_type": "stream",
     "text": [
      "[80, 70, 60, 20, 10]\n"
     ]
    }
   ],
   "source": [
    "#역순으로 변경 -> reverse()\n",
    "\n",
    "b.reverse()\n",
    "print(b)"
   ]
  },
  {
   "cell_type": "code",
   "execution_count": 25,
   "metadata": {},
   "outputs": [
    {
     "name": "stdout",
     "output_type": "stream",
     "text": [
      "[10, 20, 30, 50, 70, 22]\n"
     ]
    }
   ],
   "source": [
    "#append() -> 리스트 가장 마지막에 원소 추가\n",
    "\n",
    "a.append(22)\n",
    "print(a)"
   ]
  },
  {
   "cell_type": "code",
   "execution_count": 26,
   "metadata": {},
   "outputs": [
    {
     "name": "stdout",
     "output_type": "stream",
     "text": [
      "[1]\n"
     ]
    }
   ],
   "source": [
    "l=[]\n",
    "l.append(1)\n",
    "print(l)"
   ]
  },
  {
   "cell_type": "code",
   "execution_count": 27,
   "metadata": {},
   "outputs": [
    {
     "name": "stdout",
     "output_type": "stream",
     "text": [
      "[3, 6, 9, 12, 15, 18, 21, 24, 27, 30, 33, 36, 39, 42, 45, 48, 51, 54, 57, 60, 63, 66, 69]\n"
     ]
    }
   ],
   "source": [
    "#1부터 70까지 숫자중에 3의 배수를 리스트로 만들어서 출력\n",
    "#비어있는 리스트 하나 생성\n",
    "#for반복문 사용, 1부터 70까지 반복\n",
    "\n",
    "a=[]\n",
    "for i in range(1,71):\n",
    "    if i%3==0:\n",
    "        a.append(i)\n",
    "print(a)"
   ]
  },
  {
   "cell_type": "code",
   "execution_count": 28,
   "metadata": {},
   "outputs": [
    {
     "name": "stdout",
     "output_type": "stream",
     "text": [
      "{'name': 'test', 'age': '20', 'phone': '01012345678'}\n"
     ]
    }
   ],
   "source": [
    "#딕셔너리 데이터 형태\n",
    "#사전형 데이터\n",
    "#{key:value}\n",
    "\n",
    "dict={\"name\":\"test\",\"age\":\"20\",\"phone\":\"01012345678\"}\n",
    "print(dict)"
   ]
  },
  {
   "cell_type": "code",
   "execution_count": 29,
   "metadata": {},
   "outputs": [
    {
     "name": "stdout",
     "output_type": "stream",
     "text": [
      "test\n"
     ]
    }
   ],
   "source": [
    "#test 단어 출력\n",
    "\n",
    "print(dict[\"name\"])"
   ]
  },
  {
   "cell_type": "code",
   "execution_count": 30,
   "metadata": {},
   "outputs": [
    {
     "name": "stdout",
     "output_type": "stream",
     "text": [
      "{'name': 'test', 'age': '20', 'phone': '01012345678', 'area': 'Seoul'}\n"
     ]
    }
   ],
   "source": [
    "#key:value 추가\n",
    "#\"area\":\"Seoul\"\n",
    "\n",
    "dict[\"area\"]=\"Seoul\"\n",
    "print(dict)"
   ]
  },
  {
   "cell_type": "code",
   "execution_count": 31,
   "metadata": {},
   "outputs": [
    {
     "name": "stdout",
     "output_type": "stream",
     "text": [
      "{'name': 'test', 'age': '30', 'phone': '01012345678', 'area': 'Seoul'}\n"
     ]
    }
   ],
   "source": [
    "#age 키의 value를 30으로 변경?\n",
    "\n",
    "dict[\"age\"]=\"30\"\n",
    "print(dict)"
   ]
  },
  {
   "cell_type": "code",
   "execution_count": 32,
   "metadata": {},
   "outputs": [],
   "source": [
    "#SQL -> Database에서 데이터를 가지고 올때 데이터의 형태\n",
    "#[{key1:value1, key2:value2},{key1:value3, key2:value4},...]\n",
    "test_data=[{\"name\":\"test\",\n",
    "\"age\":20},{\"name\":\"test2\",\"age\":30},{\"name\":\"test3\",\"age\":35}]"
   ]
  },
  {
   "cell_type": "code",
   "execution_count": 33,
   "metadata": {},
   "outputs": [
    {
     "name": "stdout",
     "output_type": "stream",
     "text": [
      "{'name': 'test', 'age': 20}\n"
     ]
    }
   ],
   "source": [
    "#test_data 라는 변수에서{\"name\":\"test\",\"age\":20}인 값을 출력히려면?\n",
    "print(test_data[0])"
   ]
  },
  {
   "cell_type": "code",
   "execution_count": 34,
   "metadata": {},
   "outputs": [
    {
     "name": "stdout",
     "output_type": "stream",
     "text": [
      "test\n"
     ]
    }
   ],
   "source": [
    "#test_data에서 \"test\"라는 문자열을 출력하려면?\n",
    "print(test_data[0][\"name\"])"
   ]
  },
  {
   "cell_type": "code",
   "execution_count": 35,
   "metadata": {},
   "outputs": [
    {
     "name": "stdout",
     "output_type": "stream",
     "text": [
      "30\n"
     ]
    }
   ],
   "source": [
    "#test_data에서 30이라는 숫자를 출력하려면?\n",
    "print(test_data[1][\"age\"])"
   ]
  },
  {
   "cell_type": "code",
   "execution_count": 36,
   "metadata": {},
   "outputs": [
    {
     "name": "stdout",
     "output_type": "stream",
     "text": [
      "[20, 30, 35]\n"
     ]
    }
   ],
   "source": [
    "#test_data에서 나이 20,30,35 이 데이터를 추출해서 리스트의 형태로 출력\n",
    "#0.비어있는 리스트 생성\n",
    "#1.test_data에서 각 원소별로 총 3번 반복\n",
    "#2.age의 value를 추출해서 비어있는 리스트에 추가\n",
    "#3.리스트를 출력\n",
    "\n",
    "a=[]\n",
    "\n",
    "for i in range(0,3):\n",
    "    #print(test_data[i][\"age\"])\n",
    "    a.append(test_data[i][\"age\"])\n",
    "print(a)\n",
    "    \n"
   ]
  },
  {
   "cell_type": "code",
   "execution_count": 37,
   "metadata": {},
   "outputs": [
    {
     "name": "stdout",
     "output_type": "stream",
     "text": [
      "[20, 30, 35]\n"
     ]
    }
   ],
   "source": [
    "#test_data의 데이터의 형태 -> 리스트 []\n",
    "a=[]\n",
    "\n",
    "for i in test_data:\n",
    "    #print(i[\"age\"])\n",
    "    a.append(i[\"age\"])\n",
    "print(a)"
   ]
  },
  {
   "cell_type": "code",
   "execution_count": 38,
   "metadata": {},
   "outputs": [
    {
     "name": "stdout",
     "output_type": "stream",
     "text": [
      "HELLO WORLD\n",
      "hello world\n",
      "Hello World\n"
     ]
    }
   ],
   "source": [
    "#문자열 함수\n",
    "#대 소문자 변경\n",
    "a=\"Hello world\"\n",
    "print(a.upper())\n",
    "print(a.lower())\n",
    "print(a.title())"
   ]
  },
  {
   "cell_type": "code",
   "execution_count": 39,
   "metadata": {},
   "outputs": [
    {
     "name": "stdout",
     "output_type": "stream",
     "text": [
      "Hello world\n",
      "Helloworld\n"
     ]
    }
   ],
   "source": [
    "#공백 제거하는 함수\n",
    "#strip()\n",
    "#replace()\n",
    "a=\"  Hello world  \"\n",
    "print(a.strip())\n",
    "print(a.replace(\" \",\"\"))"
   ]
  },
  {
   "cell_type": "code",
   "execution_count": 40,
   "metadata": {},
   "outputs": [
    {
     "data": {
      "text/plain": [
       "'  Hi world  '"
      ]
     },
     "execution_count": 40,
     "metadata": {},
     "output_type": "execute_result"
    }
   ],
   "source": [
    "a.replace(\"Hello\",\"Hi\")"
   ]
  },
  {
   "cell_type": "code",
   "execution_count": 41,
   "metadata": {},
   "outputs": [
    {
     "name": "stdout",
     "output_type": "stream",
     "text": [
      "['a', 'b', 'c', 'd']\n",
      "c\n",
      "c\n"
     ]
    }
   ],
   "source": [
    "#split() -> 기준이 되는 문자열이나 특수문자를 기준으로 문자열을 나눠주는 역할\n",
    "x='a,b,c,d'\n",
    "print(x.split(','))\n",
    "\n",
    "#c 라는 문자열을 출력하려면?\n",
    "#1.split 사용하지 않는 경우\n",
    "print(x[4])\n",
    "#2.split 사용하는 경우\n",
    "print(x.split(',')[2])"
   ]
  },
  {
   "attachments": {},
   "cell_type": "markdown",
   "metadata": {},
   "source": [
    "###함수"
   ]
  },
  {
   "cell_type": "code",
   "execution_count": 42,
   "metadata": {},
   "outputs": [
    {
     "name": "stdout",
     "output_type": "stream",
     "text": [
      "7\n",
      "4\n"
     ]
    }
   ],
   "source": [
    "#함수 -> 데이터를 일반적인 저장 방식, 뭔가 행동을 하고 난 뒤에 결과값 돌려주는것\n",
    "#def 함수명(애개변수):\n",
    "\n",
    "def func_1(a,b):\n",
    "    result=a+b\n",
    "    return result\n",
    "\n",
    "c=func_1(3,4)\n",
    "print(c)\n",
    "print(func_1(1,3))"
   ]
  },
  {
   "attachments": {},
   "cell_type": "markdown",
   "metadata": {},
   "source": [
    "#변수의 종류\n",
    "1. 전역 변수\n",
    "- 어디서든 사용이 가능한 변수\n",
    "- 들여쓰기를 하지 않은 공간에서 지정한 변수\n",
    "2. 지역 변수\n",
    "- 특정한 구간에서만 가용이 가능한 변수\n",
    "- 함수 안에서 만든 변수(들여쓰기를 한 곳에서 지정한 변수)"
   ]
  },
  {
   "cell_type": "code",
   "execution_count": 43,
   "metadata": {},
   "outputs": [
    {
     "name": "stdout",
     "output_type": "stream",
     "text": [
      "3\n",
      "12\n"
     ]
    }
   ],
   "source": [
    "#전역변수의 예\n",
    "\n",
    "x=3\n",
    "\n",
    "def func_2(a):\n",
    "    result=a*x\n",
    "    return result\n",
    "\n",
    "print(x)\n",
    "print(func_2(4))\n",
    "\n"
   ]
  },
  {
   "cell_type": "code",
   "execution_count": 44,
   "metadata": {},
   "outputs": [
    {
     "ename": "NameError",
     "evalue": "name 'y' is not defined",
     "output_type": "error",
     "traceback": [
      "\u001b[1;31m---------------------------------------------------------------------------\u001b[0m",
      "\u001b[1;31mNameError\u001b[0m                                 Traceback (most recent call last)",
      "Cell \u001b[1;32mIn[44], line 8\u001b[0m\n\u001b[0;32m      5\u001b[0m     result\u001b[39m=\u001b[39ma\u001b[39m*\u001b[39my\n\u001b[0;32m      6\u001b[0m     \u001b[39mreturn\u001b[39;00m result\n\u001b[1;32m----> 8\u001b[0m \u001b[39mprint\u001b[39m(y)\n\u001b[0;32m      9\u001b[0m \u001b[39mprint\u001b[39m(func_3(\u001b[39m4\u001b[39m))\n",
      "\u001b[1;31mNameError\u001b[0m: name 'y' is not defined"
     ]
    }
   ],
   "source": [
    "#지역변수의 예\n",
    "\n",
    "def func_3(a):\n",
    "    y=3\n",
    "    result=a*y\n",
    "    return result\n",
    "\n",
    "print(y)\n",
    "print(func_3(4))"
   ]
  },
  {
   "cell_type": "code",
   "execution_count": null,
   "metadata": {},
   "outputs": [],
   "source": [
    "#c매개변수값을 1로 지정했을 경우, 인자값을 지정하지 않아도 되는 경우 \n",
    "\n",
    "def func_4(a,b,c=1):\n",
    "    result=a+b-c\n",
    "    return result\n",
    "\n",
    "print(func_4(5,3), end=\",\")\n",
    "print(func_4(5,3,4))"
   ]
  },
  {
   "attachments": {},
   "cell_type": "markdown",
   "metadata": {},
   "source": [
    "#함수 생성 문제\n",
    "1. 함수 생성 매개변수 3개 a,b,c\n",
    "2. c의 값이 '합'이면 result= a+b\n",
    "3. c의 값이 '차'이면 result= a-b\n",
    "4. 그외의 값이면 result= 'Error'\n",
    "5. return result\n",
    "6. print(함수명(3개의 인자값))\n",
    "7. 합과 차 그리고 Error 출력"
   ]
  },
  {
   "cell_type": "code",
   "execution_count": null,
   "metadata": {},
   "outputs": [
    {
     "name": "stdout",
     "output_type": "stream",
     "text": [
      "8\n",
      "-1\n",
      "Error\n"
     ]
    }
   ],
   "source": [
    "def func_5(a,b,c):\n",
    "    if c=='합':\n",
    "        result=a+b\n",
    "    elif c=='차':\n",
    "        result=a-b\n",
    "    else:\n",
    "        result='Error'\n",
    "    return result\n",
    "\n",
    "print(func_5(5,3,'합'))\n",
    "print(func_5(1,2,'차'))\n",
    "print(func_5(4,3,'곱'))\n"
   ]
  },
  {
   "attachments": {},
   "cell_type": "markdown",
   "metadata": {},
   "source": [
    "#함수 생성\n",
    "1. 매개변수(a,b) 2개를 가진 함수 생성(매개변수에는 숫자형만 넣어서 실행)\n",
    "2. a와 b사이에 숫자들의 합계를 return(a와 b가 모두 포함되어 있는 경우)\n",
    "3. a와 b사이에 대소관계는 정해져있지 않다.\n",
    "4. a와 b가 같은 경우에는 a를 return\n",
    "5. print(func_6(1,10)) -> 55\n",
    "6. print(func_6(10,1)) -> 55"
   ]
  },
  {
   "cell_type": "code",
   "execution_count": null,
   "metadata": {},
   "outputs": [
    {
     "name": "stdout",
     "output_type": "stream",
     "text": [
      "55\n",
      "55\n",
      "2\n"
     ]
    }
   ],
   "source": [
    "\n",
    "def func_6(a,b):\n",
    "    sum=0\n",
    "    if a<b:\n",
    "        for i in range(a,b+1):\n",
    "            sum+=i\n",
    "          \n",
    "    elif a>b:\n",
    "        for i in range(b,a+1):\n",
    "            sum+=i\n",
    "       \n",
    "    else:\n",
    "        return a\n",
    "    return sum\n",
    "\n",
    "print(func_6(1,10))\n",
    "print(func_6(10,1))\n",
    "print(func_6(2,2))\n",
    "\n",
    "    \n"
   ]
  },
  {
   "cell_type": "code",
   "execution_count": null,
   "metadata": {},
   "outputs": [],
   "source": [
    "def func_7(a,b):\n",
    "    sum=0\n",
    "    for i in range(min(a,b),max(a,b)+1):\n",
    "        sum+=i\n",
    "    return sum\n",
    "\n",
    "print(func_7(1,7))"
   ]
  },
  {
   "cell_type": "code",
   "execution_count": null,
   "metadata": {},
   "outputs": [
    {
     "name": "stdout",
     "output_type": "stream",
     "text": [
      "10\n"
     ]
    }
   ],
   "source": [
    "def func_8(a,b):\n",
    "    sum=0\n",
    "    if a<b:\n",
    "        while a<=b:\n",
    "            sum+=a\n",
    "            a+=1\n",
    "    elif a>b:\n",
    "        while b<=a:\n",
    "            sum+=b\n",
    "            b+=1\n",
    "    else:\n",
    "        sum=a\n",
    "    return sum\n",
    "\n",
    "print(func_8(1,4))"
   ]
  }
 ],
 "metadata": {
  "kernelspec": {
   "display_name": "Python 3",
   "language": "python",
   "name": "python3"
  },
  "language_info": {
   "codemirror_mode": {
    "name": "ipython",
    "version": 3
   },
   "file_extension": ".py",
   "mimetype": "text/x-python",
   "name": "python",
   "nbconvert_exporter": "python",
   "pygments_lexer": "ipython3",
   "version": "3.11.1"
  },
  "orig_nbformat": 4,
  "vscode": {
   "interpreter": {
    "hash": "1f9024205cc48e5f62389b905109b1856dbfd744c4fe669d63a7eaa6f0de9f6f"
   }
  }
 },
 "nbformat": 4,
 "nbformat_minor": 2
}
