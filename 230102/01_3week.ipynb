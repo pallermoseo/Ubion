{
 "cells": [
  {
   "attachments": {},
   "cell_type": "markdown",
   "metadata": {},
   "source": [
    "# pandas\n",
    "1. 시계열데이터\n",
    "    - to_datetime() 함수 이용하여 시계열로 데이터 형태를 변환\n",
    "    - 시간을 데이터화 하여 요일, 월, 일, 분기별,... 그룹화 하여 표현\n",
    "2. 결측치\n",
    "    - isna() : 결측치인 경우는 True, 아닌 경우 False\n",
    "    - 데이터프레임에서 결측치의 수를 체크를 할때는 isna().sum()을 사용해서 결측치의 개수를 체크\n",
    "    - fillna() : 결측치의 값을 다른 값으로 대체하는 함수\n",
    "        - method : 'ffill' - 전의 값으로 대체 / 'bfill' - 후의 값으로 대체\n",
    "    - dropna() : 결측치가 존재하는 행이나 열을 삭제\n",
    "        - axis : 0이면 행을 기준으로 삭제, 1이면 열을 기준으로 삭제\n",
    "3. 통계 요약 정보 출력\n",
    "    -describe() : 데이터의 형태가 숫자형태인 경우 통계요약정보를 출력\n",
    "4. 특정 위치의 데이터를 출력\n",
    "    - loc() : 인덱스와 컬럼의 값을 기준으로 특정 위치를 출력 \n",
    "    - iloc() : 인덱스와 컬럼의 위치를 기준으로 특정 위치를 출력 (숫자로 표현)\n",
    "5. 그룹화 함수\n",
    "    - groupby() : 특정한 컬럼을 기준으로 그룹화하여 데이터 통계를 내는데 사용\n",
    "        - agg() : 통계 함수들을 동시에 사용하여 컬럼을 생성\n",
    "6. 데이터의 행을 이동하는 함수\n",
    "    - shift() : 데이터의 행을 이동한다. 기본값은 1 -> 바로 전의 행의 값을 가져온다.\n",
    "7. 데이터의 차이를 나타내는 함수\n",
    "    - diff() : 기본값은 1 -> 바로 전 행의 값과의 차이를 출력\n",
    "8. 데이터의 각 항의 값들을 하나하나씩 함수에 넣어서 실행\n",
    "    - apply() : 일반함수를 사용하여 새로운 파생변수를 생성 가능, 함수의 코드가 1줄로 처리가 되는 정도라면 lambda 함수 이용 가능\n",
    "9. 데이터프레임의 결합\n",
    "    - 단순한 결합 (union 결합) \n",
    "        - concat() : 단순히 행을 결합하거나 열을 결합하는 함수\n",
    "    - 특정 조건에 맞는 결합 (join 결합)\n",
    "        - merge() : 두 개의 데이터프레임을 특정한 조건에 맞춰서 결합\n",
    "            - on : 특정한 조건\n",
    "            - how : 결합에 기준이 되는 부분 지정"
   ]
  },
  {
   "attachments": {},
   "cell_type": "markdown",
   "metadata": {},
   "source": [
    "# 함수\n",
    "1. 특정한 행동을 반복적으로 사용해야하는 경우 함수를 생성\n",
    "2. 행동을 할때마다 코드를 작성하면 문제점 발생하는 경우\n",
    "    - 오타\n",
    "    - 가독성"
   ]
  },
  {
   "cell_type": "code",
   "execution_count": 51,
   "metadata": {},
   "outputs": [
    {
     "data": {
      "text/plain": [
       "125"
      ]
     },
     "execution_count": 51,
     "metadata": {},
     "output_type": "execute_result"
    }
   ],
   "source": [
    "def func_1(a, b):\n",
    "    if (type(a) in [int, float]) & (type(b) in [int, float]):\n",
    "        result = a ** b\n",
    "    else:\n",
    "        result = 'a와 b 둘 중에 숫자타입이 아닌것이 존재'\n",
    "    return result\n",
    "\n",
    "func_1(5, 3)\n",
    "#func_1('hello', 'world')"
   ]
  },
  {
   "cell_type": "code",
   "execution_count": 84,
   "metadata": {},
   "outputs": [],
   "source": [
    "import pandas as pd"
   ]
  },
  {
   "attachments": {},
   "cell_type": "markdown",
   "metadata": {},
   "source": [
    "# 함수 생성\n",
    "1. 데이터프레임을 받아와서 '각 컬럼 별'로 결측치 개수를 체크 -> print\n",
    "2. 데이터프레임에서 통계 요약 정보 출력 -> print\n",
    "3. 시계열데이터의 형태인 컬럼을 시계열로 변경\n",
    "4. 데이터의 양 옆에 공백을 삭제\n",
    "5. 데이터를 모두 대문자의 형태로 변경하여 return\n",
    "- test는 uriage.csv 파일을 로드하여 함수에 대입하여 테스트"
   ]
  },
  {
   "cell_type": "code",
   "execution_count": 90,
   "metadata": {},
   "outputs": [
    {
     "data": {
      "text/html": [
       "<div>\n",
       "<style scoped>\n",
       "    .dataframe tbody tr th:only-of-type {\n",
       "        vertical-align: middle;\n",
       "    }\n",
       "\n",
       "    .dataframe tbody tr th {\n",
       "        vertical-align: top;\n",
       "    }\n",
       "\n",
       "    .dataframe thead th {\n",
       "        text-align: right;\n",
       "    }\n",
       "</style>\n",
       "<table border=\"1\" class=\"dataframe\">\n",
       "  <thead>\n",
       "    <tr style=\"text-align: right;\">\n",
       "      <th></th>\n",
       "      <th>purchase_date</th>\n",
       "      <th>item_name</th>\n",
       "      <th>item_price</th>\n",
       "      <th>customer_name</th>\n",
       "    </tr>\n",
       "  </thead>\n",
       "  <tbody>\n",
       "    <tr>\n",
       "      <th>0</th>\n",
       "      <td>2019-06-13 18:02</td>\n",
       "      <td>상품A</td>\n",
       "      <td>100.0</td>\n",
       "      <td>김가온</td>\n",
       "    </tr>\n",
       "    <tr>\n",
       "      <th>1</th>\n",
       "      <td>2019-07-13 13:05</td>\n",
       "      <td>상 품 S</td>\n",
       "      <td>NaN</td>\n",
       "      <td>김우찬</td>\n",
       "    </tr>\n",
       "    <tr>\n",
       "      <th>2</th>\n",
       "      <td>2019-05-11 19:42</td>\n",
       "      <td>상 품 a</td>\n",
       "      <td>NaN</td>\n",
       "      <td>김유찬</td>\n",
       "    </tr>\n",
       "    <tr>\n",
       "      <th>3</th>\n",
       "      <td>2019-02-12 23:40</td>\n",
       "      <td>상품Z</td>\n",
       "      <td>2600.0</td>\n",
       "      <td>김재현</td>\n",
       "    </tr>\n",
       "  </tbody>\n",
       "</table>\n",
       "</div>"
      ],
      "text/plain": [
       "      purchase_date item_name  item_price customer_name\n",
       "0  2019-06-13 18:02       상품A       100.0           김가온\n",
       "1  2019-07-13 13:05     상 품 S         NaN           김우찬\n",
       "2  2019-05-11 19:42     상 품 a         NaN           김유찬\n",
       "3  2019-02-12 23:40       상품Z      2600.0           김재현"
      ]
     },
     "execution_count": 90,
     "metadata": {},
     "output_type": "execute_result"
    }
   ],
   "source": [
    "test = pd.read_csv('../csv/uriage.csv')\n",
    "test.head(4)"
   ]
  },
  {
   "cell_type": "code",
   "execution_count": 86,
   "metadata": {},
   "outputs": [],
   "source": [
    "# 함수 생성 - > 매개변수 1개\n",
    "def change(df):\n",
    "    print(df.isna().sum())\n",
    "    print(df.describe())\n",
    "    for col in df.columns:\n",
    "        if df[col].dtype == object:\n",
    "            df[col] = df[col].str.replace(' ','').str.upper()\n",
    "            #df[col] = df[col].str.upper()\n",
    "    return df"
   ]
  },
  {
   "cell_type": "code",
   "execution_count": 87,
   "metadata": {},
   "outputs": [
    {
     "name": "stdout",
     "output_type": "stream",
     "text": [
      "purchase_date      0\n",
      "item_name          0\n",
      "item_price       387\n",
      "customer_name      0\n",
      "dtype: int64\n",
      "        item_price\n",
      "count  2612.000000\n",
      "mean   1296.401225\n",
      "std     717.955460\n",
      "min     100.000000\n",
      "25%     700.000000\n",
      "50%    1300.000000\n",
      "75%    1900.000000\n",
      "max    2600.000000\n"
     ]
    },
    {
     "data": {
      "text/html": [
       "<div>\n",
       "<style scoped>\n",
       "    .dataframe tbody tr th:only-of-type {\n",
       "        vertical-align: middle;\n",
       "    }\n",
       "\n",
       "    .dataframe tbody tr th {\n",
       "        vertical-align: top;\n",
       "    }\n",
       "\n",
       "    .dataframe thead th {\n",
       "        text-align: right;\n",
       "    }\n",
       "</style>\n",
       "<table border=\"1\" class=\"dataframe\">\n",
       "  <thead>\n",
       "    <tr style=\"text-align: right;\">\n",
       "      <th></th>\n",
       "      <th>purchase_date</th>\n",
       "      <th>item_name</th>\n",
       "      <th>item_price</th>\n",
       "      <th>customer_name</th>\n",
       "    </tr>\n",
       "  </thead>\n",
       "  <tbody>\n",
       "    <tr>\n",
       "      <th>0</th>\n",
       "      <td>2019-06-1318:02</td>\n",
       "      <td>상품A</td>\n",
       "      <td>100.0</td>\n",
       "      <td>김가온</td>\n",
       "    </tr>\n",
       "    <tr>\n",
       "      <th>1</th>\n",
       "      <td>2019-07-1313:05</td>\n",
       "      <td>상품S</td>\n",
       "      <td>NaN</td>\n",
       "      <td>김우찬</td>\n",
       "    </tr>\n",
       "    <tr>\n",
       "      <th>2</th>\n",
       "      <td>2019-05-1119:42</td>\n",
       "      <td>상품A</td>\n",
       "      <td>NaN</td>\n",
       "      <td>김유찬</td>\n",
       "    </tr>\n",
       "    <tr>\n",
       "      <th>3</th>\n",
       "      <td>2019-02-1223:40</td>\n",
       "      <td>상품Z</td>\n",
       "      <td>2600.0</td>\n",
       "      <td>김재현</td>\n",
       "    </tr>\n",
       "    <tr>\n",
       "      <th>4</th>\n",
       "      <td>2019-04-223:09</td>\n",
       "      <td>상품A</td>\n",
       "      <td>NaN</td>\n",
       "      <td>김강현</td>\n",
       "    </tr>\n",
       "    <tr>\n",
       "      <th>...</th>\n",
       "      <td>...</td>\n",
       "      <td>...</td>\n",
       "      <td>...</td>\n",
       "      <td>...</td>\n",
       "    </tr>\n",
       "    <tr>\n",
       "      <th>2994</th>\n",
       "      <td>2019-02-152:56</td>\n",
       "      <td>상품Y</td>\n",
       "      <td>2500.0</td>\n",
       "      <td>김정민</td>\n",
       "    </tr>\n",
       "    <tr>\n",
       "      <th>2995</th>\n",
       "      <td>2019-06-224:03</td>\n",
       "      <td>상품M</td>\n",
       "      <td>1300.0</td>\n",
       "      <td>김재원</td>\n",
       "    </tr>\n",
       "    <tr>\n",
       "      <th>2996</th>\n",
       "      <td>2019-03-2911:14</td>\n",
       "      <td>상품Q</td>\n",
       "      <td>NaN</td>\n",
       "      <td>김지율</td>\n",
       "    </tr>\n",
       "    <tr>\n",
       "      <th>2997</th>\n",
       "      <td>2019-07-1412:56</td>\n",
       "      <td>상품H</td>\n",
       "      <td>NaN</td>\n",
       "      <td>김승주</td>\n",
       "    </tr>\n",
       "    <tr>\n",
       "      <th>2998</th>\n",
       "      <td>2019-07-210:31</td>\n",
       "      <td>상품D</td>\n",
       "      <td>400.0</td>\n",
       "      <td>정준기</td>\n",
       "    </tr>\n",
       "  </tbody>\n",
       "</table>\n",
       "<p>2999 rows × 4 columns</p>\n",
       "</div>"
      ],
      "text/plain": [
       "        purchase_date item_name  item_price customer_name\n",
       "0     2019-06-1318:02       상품A       100.0           김가온\n",
       "1     2019-07-1313:05       상품S         NaN           김우찬\n",
       "2     2019-05-1119:42       상품A         NaN           김유찬\n",
       "3     2019-02-1223:40       상품Z      2600.0           김재현\n",
       "4      2019-04-223:09       상품A         NaN           김강현\n",
       "...               ...       ...         ...           ...\n",
       "2994   2019-02-152:56       상품Y      2500.0           김정민\n",
       "2995   2019-06-224:03       상품M      1300.0           김재원\n",
       "2996  2019-03-2911:14       상품Q         NaN           김지율\n",
       "2997  2019-07-1412:56       상품H         NaN           김승주\n",
       "2998   2019-07-210:31       상품D       400.0           정준기\n",
       "\n",
       "[2999 rows x 4 columns]"
      ]
     },
     "execution_count": 87,
     "metadata": {},
     "output_type": "execute_result"
    }
   ],
   "source": [
    "change(test)"
   ]
  },
  {
   "cell_type": "code",
   "execution_count": 91,
   "metadata": {},
   "outputs": [],
   "source": [
    "# case 2 -> 시계열구조의 컬럼을 시계형데이터로 변환하는 방법 추가 -> 방법은 변환하려는 컬럼을 새로운 매개변수로 추가한다. \n",
    "\n",
    "def change_1(df, date_col = []):\n",
    "    print(df.isna().sum())\n",
    "    print(df.describe())\n",
    "    if (len(date_col) != 0) & (type(date_col) == list):\n",
    "        for d_col in date_col:\n",
    "            if type(d_col) == int:\n",
    "                df.iloc[:, d_col] = pd.to_datetime(df.iloc[:, d_col])\n",
    "            elif type(d_col) == str:\n",
    "                df[d_col] = pd.to_datetime(df[d_col])\n",
    "    elif (len(date_col) != 0) & (type(date_col) in [str, int]):\n",
    "        if type(date_col) == int:\n",
    "            df.iloc[:, date_col] = pd.to_datetime(df.iloc[:, date_col])\n",
    "        else:\n",
    "            df[date_col] = pd.to_datetime(df[date_col])\n",
    "    for col in df.columns:\n",
    "        # for문의 첫번째 반복인 경우 col = purchase_date\n",
    "        # df['purchase_date] = df['purchase_date].apply(lambda x : x...)\n",
    "        # x는 -> df['purchace_date']의 데이터 값 하나씩 대입\n",
    "        # x는 타입이 str \n",
    "        df[col] = df[col].apply(lambda x : (x.replace(' ','').upper()) if type(x) == str else x)\n",
    "        return df\n",
    "        "
   ]
  },
  {
   "cell_type": "code",
   "execution_count": 92,
   "metadata": {},
   "outputs": [
    {
     "name": "stdout",
     "output_type": "stream",
     "text": [
      "purchase_date      0\n",
      "item_name          0\n",
      "item_price       387\n",
      "customer_name      0\n",
      "dtype: int64\n",
      "        item_price\n",
      "count  2612.000000\n",
      "mean   1296.401225\n",
      "std     717.955460\n",
      "min     100.000000\n",
      "25%     700.000000\n",
      "50%    1300.000000\n",
      "75%    1900.000000\n",
      "max    2600.000000\n",
      "<class 'pandas.core.frame.DataFrame'>\n",
      "RangeIndex: 2999 entries, 0 to 2998\n",
      "Data columns (total 4 columns):\n",
      " #   Column         Non-Null Count  Dtype         \n",
      "---  ------         --------------  -----         \n",
      " 0   purchase_date  2999 non-null   datetime64[ns]\n",
      " 1   item_name      2999 non-null   object        \n",
      " 2   item_price     2612 non-null   float64       \n",
      " 3   customer_name  2999 non-null   object        \n",
      "dtypes: datetime64[ns](1), float64(1), object(2)\n",
      "memory usage: 93.8+ KB\n"
     ]
    }
   ],
   "source": [
    "change_1(test, ['purchase_date']).info()"
   ]
  },
  {
   "cell_type": "code",
   "execution_count": null,
   "metadata": {},
   "outputs": [],
   "source": []
  }
 ],
 "metadata": {
  "kernelspec": {
   "display_name": "Python 3",
   "language": "python",
   "name": "python3"
  },
  "language_info": {
   "codemirror_mode": {
    "name": "ipython",
    "version": 3
   },
   "file_extension": ".py",
   "mimetype": "text/x-python",
   "name": "python",
   "nbconvert_exporter": "python",
   "pygments_lexer": "ipython3",
   "version": "3.8.7 (tags/v3.8.7:6503f05, Dec 21 2020, 17:59:51) [MSC v.1928 64 bit (AMD64)]"
  },
  "orig_nbformat": 4,
  "vscode": {
   "interpreter": {
    "hash": "6ed46fb23ec5ee126807269f2acaff06427feb3c20a806d580a6668d43174b65"
   }
  }
 },
 "nbformat": 4,
 "nbformat_minor": 2
}
