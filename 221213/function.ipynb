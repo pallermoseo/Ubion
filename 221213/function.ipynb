{
 "cells": [
  {
   "cell_type": "code",
   "execution_count": 1,
   "metadata": {},
   "outputs": [
    {
     "name": "stdout",
     "output_type": "stream",
     "text": [
      "1 2 3 4\n"
     ]
    }
   ],
   "source": [
    "#함수 생성 def 키워드를 이용해서 생성\n",
    "\n",
    "def func_1(a,b,c,d):\n",
    "    print(a,b,c,d)\n",
    "\n",
    "#함수 호출 -> 함수명(인자값) -> 함수에서 지정한 매개변수의 개수와 인자의 개수가 같아야한다.\n",
    "func_1(1,2,3,4)"
   ]
  },
  {
   "cell_type": "code",
   "execution_count": 6,
   "metadata": {},
   "outputs": [
    {
     "name": "stdout",
     "output_type": "stream",
     "text": [
      "1 2 3 4\n",
      "1 2 5 6\n"
     ]
    }
   ],
   "source": [
    "#매개변수에 기본값을 지정을 하게 되면 인자의 개수와 매개변수의 개수를 다르게 지정해도 함수가 실행\n",
    "\n",
    "def func_2(a,b,c=3,d=4):\n",
    "    print(a,b,c,d)\n",
    "\n",
    "func_2(1,2)\n",
    "func_2(1,2,5,6)"
   ]
  },
  {
   "cell_type": "code",
   "execution_count": null,
   "metadata": {},
   "outputs": [],
   "source": []
  }
 ],
 "metadata": {
  "kernelspec": {
   "display_name": "Python 3",
   "language": "python",
   "name": "python3"
  },
  "language_info": {
   "codemirror_mode": {
    "name": "ipython",
    "version": 3
   },
   "file_extension": ".py",
   "mimetype": "text/x-python",
   "name": "python",
   "nbconvert_exporter": "python",
   "pygments_lexer": "ipython3",
   "version": "3.8.7 (tags/v3.8.7:6503f05, Dec 21 2020, 17:59:51) [MSC v.1928 64 bit (AMD64)]"
  },
  "orig_nbformat": 4,
  "vscode": {
   "interpreter": {
    "hash": "6ed46fb23ec5ee126807269f2acaff06427feb3c20a806d580a6668d43174b65"
   }
  }
 },
 "nbformat": 4,
 "nbformat_minor": 2
}
