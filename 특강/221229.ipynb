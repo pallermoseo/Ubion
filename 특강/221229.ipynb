{
 "cells": [
  {
   "attachments": {},
   "cell_type": "markdown",
   "metadata": {},
   "source": [
    "# 할로윈 투자 전략\n",
    "1. 11월 1일에 구매 -> 6개월 동안 유지, 4월 말일에 판매\n",
    "2. 11월 첫날 시가로 구매\n",
    "3. 4월 마지막날 종가로 판매\n",
    "4. 수익률 = (3번과정 - 2번과정) / 2번과정 \n",
    "5. 투자기간이 21년 누적 수익률 계산\n",
    "6. CAGR (연복리수익률) 계산\n",
    "7. MDD (Max DrawDown, 최대낙폭) 계산 \n",
    "8. 백테스팅"
   ]
  },
  {
   "cell_type": "code",
   "execution_count": 1,
   "metadata": {},
   "outputs": [],
   "source": [
    "import pandas as pd"
   ]
  },
  {
   "cell_type": "code",
   "execution_count": 2,
   "metadata": {},
   "outputs": [
    {
     "data": {
      "text/html": [
       "<div>\n",
       "<style scoped>\n",
       "    .dataframe tbody tr th:only-of-type {\n",
       "        vertical-align: middle;\n",
       "    }\n",
       "\n",
       "    .dataframe tbody tr th {\n",
       "        vertical-align: top;\n",
       "    }\n",
       "\n",
       "    .dataframe thead th {\n",
       "        text-align: right;\n",
       "    }\n",
       "</style>\n",
       "<table border=\"1\" class=\"dataframe\">\n",
       "  <thead>\n",
       "    <tr style=\"text-align: right;\">\n",
       "      <th></th>\n",
       "      <th>Close</th>\n",
       "      <th>Open</th>\n",
       "      <th>High</th>\n",
       "      <th>Low</th>\n",
       "      <th>Volume</th>\n",
       "      <th>Change</th>\n",
       "    </tr>\n",
       "    <tr>\n",
       "      <th>Date</th>\n",
       "      <th></th>\n",
       "      <th></th>\n",
       "      <th></th>\n",
       "      <th></th>\n",
       "      <th></th>\n",
       "      <th></th>\n",
       "    </tr>\n",
       "  </thead>\n",
       "  <tbody>\n",
       "    <tr>\n",
       "      <th>2000-01-04</th>\n",
       "      <td>1059.04</td>\n",
       "      <td>1028.33</td>\n",
       "      <td>1066.18</td>\n",
       "      <td>1016.59</td>\n",
       "      <td>195900000.0</td>\n",
       "      <td>0.0301</td>\n",
       "    </tr>\n",
       "  </tbody>\n",
       "</table>\n",
       "</div>"
      ],
      "text/plain": [
       "              Close     Open     High      Low       Volume  Change\n",
       "Date                                                               \n",
       "2000-01-04  1059.04  1028.33  1066.18  1016.59  195900000.0  0.0301"
      ]
     },
     "execution_count": 2,
     "metadata": {},
     "output_type": "execute_result"
    }
   ],
   "source": [
    "kospi = pd.read_excel('kospi.xlsx', engine='openpyxl', index_col=0)\n",
    "kospi.head(1)"
   ]
  },
  {
   "cell_type": "code",
   "execution_count": 3,
   "metadata": {},
   "outputs": [
    {
     "data": {
      "text/html": [
       "<div>\n",
       "<style scoped>\n",
       "    .dataframe tbody tr th:only-of-type {\n",
       "        vertical-align: middle;\n",
       "    }\n",
       "\n",
       "    .dataframe tbody tr th {\n",
       "        vertical-align: top;\n",
       "    }\n",
       "\n",
       "    .dataframe thead th {\n",
       "        text-align: right;\n",
       "    }\n",
       "</style>\n",
       "<table border=\"1\" class=\"dataframe\">\n",
       "  <thead>\n",
       "    <tr style=\"text-align: right;\">\n",
       "      <th></th>\n",
       "      <th>Close</th>\n",
       "      <th>Open</th>\n",
       "      <th>High</th>\n",
       "      <th>Low</th>\n",
       "      <th>Volume</th>\n",
       "      <th>Change</th>\n",
       "    </tr>\n",
       "    <tr>\n",
       "      <th>Date</th>\n",
       "      <th></th>\n",
       "      <th></th>\n",
       "      <th></th>\n",
       "      <th></th>\n",
       "      <th></th>\n",
       "      <th></th>\n",
       "    </tr>\n",
       "  </thead>\n",
       "  <tbody>\n",
       "    <tr>\n",
       "      <th>2000-11-01</th>\n",
       "      <td>548.76</td>\n",
       "      <td>524.69</td>\n",
       "      <td>550.06</td>\n",
       "      <td>522.78</td>\n",
       "      <td>366440000.0</td>\n",
       "      <td>0.0666</td>\n",
       "    </tr>\n",
       "    <tr>\n",
       "      <th>2000-11-02</th>\n",
       "      <td>558.10</td>\n",
       "      <td>543.94</td>\n",
       "      <td>563.98</td>\n",
       "      <td>540.93</td>\n",
       "      <td>461060000.0</td>\n",
       "      <td>0.0170</td>\n",
       "    </tr>\n",
       "    <tr>\n",
       "      <th>2000-11-03</th>\n",
       "      <td>560.41</td>\n",
       "      <td>563.50</td>\n",
       "      <td>567.07</td>\n",
       "      <td>556.38</td>\n",
       "      <td>406520000.0</td>\n",
       "      <td>0.0041</td>\n",
       "    </tr>\n",
       "    <tr>\n",
       "      <th>2000-11-06</th>\n",
       "      <td>556.66</td>\n",
       "      <td>557.64</td>\n",
       "      <td>581.47</td>\n",
       "      <td>555.41</td>\n",
       "      <td>423810000.0</td>\n",
       "      <td>-0.0067</td>\n",
       "    </tr>\n",
       "    <tr>\n",
       "      <th>2000-11-07</th>\n",
       "      <td>553.35</td>\n",
       "      <td>560.55</td>\n",
       "      <td>564.38</td>\n",
       "      <td>550.39</td>\n",
       "      <td>346590000.0</td>\n",
       "      <td>-0.0059</td>\n",
       "    </tr>\n",
       "    <tr>\n",
       "      <th>2000-11-08</th>\n",
       "      <td>558.09</td>\n",
       "      <td>549.21</td>\n",
       "      <td>562.89</td>\n",
       "      <td>545.77</td>\n",
       "      <td>354230000.0</td>\n",
       "      <td>0.0086</td>\n",
       "    </tr>\n",
       "    <tr>\n",
       "      <th>2000-11-09</th>\n",
       "      <td>560.66</td>\n",
       "      <td>549.44</td>\n",
       "      <td>562.66</td>\n",
       "      <td>548.14</td>\n",
       "      <td>323910000.0</td>\n",
       "      <td>0.0046</td>\n",
       "    </tr>\n",
       "    <tr>\n",
       "      <th>2000-11-10</th>\n",
       "      <td>565.18</td>\n",
       "      <td>557.94</td>\n",
       "      <td>567.34</td>\n",
       "      <td>555.11</td>\n",
       "      <td>322180000.0</td>\n",
       "      <td>0.0081</td>\n",
       "    </tr>\n",
       "    <tr>\n",
       "      <th>2000-11-13</th>\n",
       "      <td>538.94</td>\n",
       "      <td>552.44</td>\n",
       "      <td>552.44</td>\n",
       "      <td>536.45</td>\n",
       "      <td>272840000.0</td>\n",
       "      <td>-0.0464</td>\n",
       "    </tr>\n",
       "    <tr>\n",
       "      <th>2000-11-14</th>\n",
       "      <td>552.99</td>\n",
       "      <td>543.53</td>\n",
       "      <td>552.99</td>\n",
       "      <td>543.53</td>\n",
       "      <td>253050000.0</td>\n",
       "      <td>0.0261</td>\n",
       "    </tr>\n",
       "    <tr>\n",
       "      <th>2000-11-15</th>\n",
       "      <td>557.48</td>\n",
       "      <td>566.41</td>\n",
       "      <td>570.36</td>\n",
       "      <td>552.89</td>\n",
       "      <td>325310000.0</td>\n",
       "      <td>0.0081</td>\n",
       "    </tr>\n",
       "    <tr>\n",
       "      <th>2000-11-16</th>\n",
       "      <td>555.04</td>\n",
       "      <td>557.85</td>\n",
       "      <td>561.17</td>\n",
       "      <td>550.46</td>\n",
       "      <td>310690000.0</td>\n",
       "      <td>-0.0044</td>\n",
       "    </tr>\n",
       "    <tr>\n",
       "      <th>2000-11-17</th>\n",
       "      <td>551.26</td>\n",
       "      <td>548.43</td>\n",
       "      <td>551.26</td>\n",
       "      <td>543.60</td>\n",
       "      <td>331720000.0</td>\n",
       "      <td>-0.0068</td>\n",
       "    </tr>\n",
       "    <tr>\n",
       "      <th>2000-11-20</th>\n",
       "      <td>537.40</td>\n",
       "      <td>543.78</td>\n",
       "      <td>547.56</td>\n",
       "      <td>537.24</td>\n",
       "      <td>289750000.0</td>\n",
       "      <td>-0.0251</td>\n",
       "    </tr>\n",
       "    <tr>\n",
       "      <th>2000-11-21</th>\n",
       "      <td>531.45</td>\n",
       "      <td>529.51</td>\n",
       "      <td>531.45</td>\n",
       "      <td>515.41</td>\n",
       "      <td>293150000.0</td>\n",
       "      <td>-0.0111</td>\n",
       "    </tr>\n",
       "    <tr>\n",
       "      <th>2000-11-22</th>\n",
       "      <td>522.33</td>\n",
       "      <td>525.50</td>\n",
       "      <td>532.95</td>\n",
       "      <td>520.61</td>\n",
       "      <td>314620000.0</td>\n",
       "      <td>-0.0172</td>\n",
       "    </tr>\n",
       "    <tr>\n",
       "      <th>2000-11-23</th>\n",
       "      <td>514.31</td>\n",
       "      <td>515.48</td>\n",
       "      <td>522.54</td>\n",
       "      <td>512.41</td>\n",
       "      <td>312320000.0</td>\n",
       "      <td>-0.0154</td>\n",
       "    </tr>\n",
       "    <tr>\n",
       "      <th>2000-11-24</th>\n",
       "      <td>530.84</td>\n",
       "      <td>518.15</td>\n",
       "      <td>530.84</td>\n",
       "      <td>515.32</td>\n",
       "      <td>315550000.0</td>\n",
       "      <td>0.0321</td>\n",
       "    </tr>\n",
       "    <tr>\n",
       "      <th>2000-11-27</th>\n",
       "      <td>554.04</td>\n",
       "      <td>542.27</td>\n",
       "      <td>554.04</td>\n",
       "      <td>542.27</td>\n",
       "      <td>392920000.0</td>\n",
       "      <td>0.0437</td>\n",
       "    </tr>\n",
       "    <tr>\n",
       "      <th>2000-11-28</th>\n",
       "      <td>536.94</td>\n",
       "      <td>544.44</td>\n",
       "      <td>547.31</td>\n",
       "      <td>535.96</td>\n",
       "      <td>341210000.0</td>\n",
       "      <td>-0.0309</td>\n",
       "    </tr>\n",
       "    <tr>\n",
       "      <th>2000-11-29</th>\n",
       "      <td>516.44</td>\n",
       "      <td>522.98</td>\n",
       "      <td>522.98</td>\n",
       "      <td>511.93</td>\n",
       "      <td>281000000.0</td>\n",
       "      <td>-0.0382</td>\n",
       "    </tr>\n",
       "    <tr>\n",
       "      <th>2000-11-30</th>\n",
       "      <td>509.23</td>\n",
       "      <td>518.82</td>\n",
       "      <td>518.82</td>\n",
       "      <td>499.52</td>\n",
       "      <td>310420000.0</td>\n",
       "      <td>-0.0140</td>\n",
       "    </tr>\n",
       "  </tbody>\n",
       "</table>\n",
       "</div>"
      ],
      "text/plain": [
       "             Close    Open    High     Low       Volume  Change\n",
       "Date                                                           \n",
       "2000-11-01  548.76  524.69  550.06  522.78  366440000.0  0.0666\n",
       "2000-11-02  558.10  543.94  563.98  540.93  461060000.0  0.0170\n",
       "2000-11-03  560.41  563.50  567.07  556.38  406520000.0  0.0041\n",
       "2000-11-06  556.66  557.64  581.47  555.41  423810000.0 -0.0067\n",
       "2000-11-07  553.35  560.55  564.38  550.39  346590000.0 -0.0059\n",
       "2000-11-08  558.09  549.21  562.89  545.77  354230000.0  0.0086\n",
       "2000-11-09  560.66  549.44  562.66  548.14  323910000.0  0.0046\n",
       "2000-11-10  565.18  557.94  567.34  555.11  322180000.0  0.0081\n",
       "2000-11-13  538.94  552.44  552.44  536.45  272840000.0 -0.0464\n",
       "2000-11-14  552.99  543.53  552.99  543.53  253050000.0  0.0261\n",
       "2000-11-15  557.48  566.41  570.36  552.89  325310000.0  0.0081\n",
       "2000-11-16  555.04  557.85  561.17  550.46  310690000.0 -0.0044\n",
       "2000-11-17  551.26  548.43  551.26  543.60  331720000.0 -0.0068\n",
       "2000-11-20  537.40  543.78  547.56  537.24  289750000.0 -0.0251\n",
       "2000-11-21  531.45  529.51  531.45  515.41  293150000.0 -0.0111\n",
       "2000-11-22  522.33  525.50  532.95  520.61  314620000.0 -0.0172\n",
       "2000-11-23  514.31  515.48  522.54  512.41  312320000.0 -0.0154\n",
       "2000-11-24  530.84  518.15  530.84  515.32  315550000.0  0.0321\n",
       "2000-11-27  554.04  542.27  554.04  542.27  392920000.0  0.0437\n",
       "2000-11-28  536.94  544.44  547.31  535.96  341210000.0 -0.0309\n",
       "2000-11-29  516.44  522.98  522.98  511.93  281000000.0 -0.0382\n",
       "2000-11-30  509.23  518.82  518.82  499.52  310420000.0 -0.0140"
      ]
     },
     "execution_count": 3,
     "metadata": {},
     "output_type": "execute_result"
    }
   ],
   "source": [
    "kospi.loc['2000-11']"
   ]
  },
  {
   "cell_type": "code",
   "execution_count": 4,
   "metadata": {},
   "outputs": [
    {
     "data": {
      "text/html": [
       "<div>\n",
       "<style scoped>\n",
       "    .dataframe tbody tr th:only-of-type {\n",
       "        vertical-align: middle;\n",
       "    }\n",
       "\n",
       "    .dataframe tbody tr th {\n",
       "        vertical-align: top;\n",
       "    }\n",
       "\n",
       "    .dataframe thead th {\n",
       "        text-align: right;\n",
       "    }\n",
       "</style>\n",
       "<table border=\"1\" class=\"dataframe\">\n",
       "  <thead>\n",
       "    <tr style=\"text-align: right;\">\n",
       "      <th></th>\n",
       "      <th>Close</th>\n",
       "      <th>Open</th>\n",
       "      <th>High</th>\n",
       "      <th>Low</th>\n",
       "      <th>Volume</th>\n",
       "      <th>Change</th>\n",
       "    </tr>\n",
       "    <tr>\n",
       "      <th>Date</th>\n",
       "      <th></th>\n",
       "      <th></th>\n",
       "      <th></th>\n",
       "      <th></th>\n",
       "      <th></th>\n",
       "      <th></th>\n",
       "    </tr>\n",
       "  </thead>\n",
       "  <tbody>\n",
       "    <tr>\n",
       "      <th>2001-04-02</th>\n",
       "      <td>515.20</td>\n",
       "      <td>520.56</td>\n",
       "      <td>522.09</td>\n",
       "      <td>512.40</td>\n",
       "      <td>231820000.0</td>\n",
       "      <td>-0.0153</td>\n",
       "    </tr>\n",
       "    <tr>\n",
       "      <th>2001-04-03</th>\n",
       "      <td>503.26</td>\n",
       "      <td>505.38</td>\n",
       "      <td>507.67</td>\n",
       "      <td>498.27</td>\n",
       "      <td>277550000.0</td>\n",
       "      <td>-0.0232</td>\n",
       "    </tr>\n",
       "    <tr>\n",
       "      <th>2001-04-04</th>\n",
       "      <td>493.69</td>\n",
       "      <td>496.03</td>\n",
       "      <td>501.32</td>\n",
       "      <td>493.57</td>\n",
       "      <td>313640000.0</td>\n",
       "      <td>-0.0190</td>\n",
       "    </tr>\n",
       "    <tr>\n",
       "      <th>2001-04-06</th>\n",
       "      <td>506.22</td>\n",
       "      <td>518.06</td>\n",
       "      <td>518.20</td>\n",
       "      <td>504.54</td>\n",
       "      <td>373590000.0</td>\n",
       "      <td>0.0254</td>\n",
       "    </tr>\n",
       "    <tr>\n",
       "      <th>2001-04-09</th>\n",
       "      <td>497.46</td>\n",
       "      <td>503.07</td>\n",
       "      <td>506.46</td>\n",
       "      <td>497.46</td>\n",
       "      <td>283860000.0</td>\n",
       "      <td>-0.0173</td>\n",
       "    </tr>\n",
       "    <tr>\n",
       "      <th>2001-04-10</th>\n",
       "      <td>491.21</td>\n",
       "      <td>500.97</td>\n",
       "      <td>501.65</td>\n",
       "      <td>491.21</td>\n",
       "      <td>261940000.0</td>\n",
       "      <td>-0.0126</td>\n",
       "    </tr>\n",
       "    <tr>\n",
       "      <th>2001-04-11</th>\n",
       "      <td>507.53</td>\n",
       "      <td>505.24</td>\n",
       "      <td>508.75</td>\n",
       "      <td>501.63</td>\n",
       "      <td>354280000.0</td>\n",
       "      <td>0.0332</td>\n",
       "    </tr>\n",
       "    <tr>\n",
       "      <th>2001-04-12</th>\n",
       "      <td>514.21</td>\n",
       "      <td>516.73</td>\n",
       "      <td>519.48</td>\n",
       "      <td>511.73</td>\n",
       "      <td>408940000.0</td>\n",
       "      <td>0.0132</td>\n",
       "    </tr>\n",
       "    <tr>\n",
       "      <th>2001-04-13</th>\n",
       "      <td>516.10</td>\n",
       "      <td>518.64</td>\n",
       "      <td>518.65</td>\n",
       "      <td>512.35</td>\n",
       "      <td>346890000.0</td>\n",
       "      <td>0.0037</td>\n",
       "    </tr>\n",
       "    <tr>\n",
       "      <th>2001-04-16</th>\n",
       "      <td>508.35</td>\n",
       "      <td>514.55</td>\n",
       "      <td>518.26</td>\n",
       "      <td>508.35</td>\n",
       "      <td>328650000.0</td>\n",
       "      <td>-0.0150</td>\n",
       "    </tr>\n",
       "    <tr>\n",
       "      <th>2001-04-17</th>\n",
       "      <td>513.97</td>\n",
       "      <td>506.92</td>\n",
       "      <td>516.12</td>\n",
       "      <td>505.92</td>\n",
       "      <td>319540000.0</td>\n",
       "      <td>0.0111</td>\n",
       "    </tr>\n",
       "    <tr>\n",
       "      <th>2001-04-18</th>\n",
       "      <td>540.00</td>\n",
       "      <td>523.26</td>\n",
       "      <td>540.00</td>\n",
       "      <td>520.31</td>\n",
       "      <td>494860000.0</td>\n",
       "      <td>0.0506</td>\n",
       "    </tr>\n",
       "    <tr>\n",
       "      <th>2001-04-19</th>\n",
       "      <td>563.31</td>\n",
       "      <td>567.49</td>\n",
       "      <td>581.63</td>\n",
       "      <td>558.97</td>\n",
       "      <td>561590000.0</td>\n",
       "      <td>0.0432</td>\n",
       "    </tr>\n",
       "    <tr>\n",
       "      <th>2001-04-20</th>\n",
       "      <td>556.29</td>\n",
       "      <td>567.66</td>\n",
       "      <td>572.08</td>\n",
       "      <td>556.22</td>\n",
       "      <td>475640000.0</td>\n",
       "      <td>-0.0125</td>\n",
       "    </tr>\n",
       "    <tr>\n",
       "      <th>2001-04-23</th>\n",
       "      <td>560.94</td>\n",
       "      <td>559.09</td>\n",
       "      <td>566.47</td>\n",
       "      <td>556.52</td>\n",
       "      <td>420370000.0</td>\n",
       "      <td>0.0084</td>\n",
       "    </tr>\n",
       "    <tr>\n",
       "      <th>2001-04-24</th>\n",
       "      <td>555.64</td>\n",
       "      <td>552.32</td>\n",
       "      <td>556.48</td>\n",
       "      <td>547.39</td>\n",
       "      <td>346700000.0</td>\n",
       "      <td>-0.0094</td>\n",
       "    </tr>\n",
       "    <tr>\n",
       "      <th>2001-04-25</th>\n",
       "      <td>566.34</td>\n",
       "      <td>552.69</td>\n",
       "      <td>566.34</td>\n",
       "      <td>551.15</td>\n",
       "      <td>376550000.0</td>\n",
       "      <td>0.0193</td>\n",
       "    </tr>\n",
       "    <tr>\n",
       "      <th>2001-04-26</th>\n",
       "      <td>561.62</td>\n",
       "      <td>569.58</td>\n",
       "      <td>570.99</td>\n",
       "      <td>560.84</td>\n",
       "      <td>305800000.0</td>\n",
       "      <td>-0.0083</td>\n",
       "    </tr>\n",
       "    <tr>\n",
       "      <th>2001-04-27</th>\n",
       "      <td>556.63</td>\n",
       "      <td>561.06</td>\n",
       "      <td>563.76</td>\n",
       "      <td>553.67</td>\n",
       "      <td>231120000.0</td>\n",
       "      <td>-0.0089</td>\n",
       "    </tr>\n",
       "    <tr>\n",
       "      <th>2001-04-30</th>\n",
       "      <td>577.36</td>\n",
       "      <td>565.44</td>\n",
       "      <td>577.52</td>\n",
       "      <td>564.72</td>\n",
       "      <td>371500000.0</td>\n",
       "      <td>0.0372</td>\n",
       "    </tr>\n",
       "  </tbody>\n",
       "</table>\n",
       "</div>"
      ],
      "text/plain": [
       "             Close    Open    High     Low       Volume  Change\n",
       "Date                                                           \n",
       "2001-04-02  515.20  520.56  522.09  512.40  231820000.0 -0.0153\n",
       "2001-04-03  503.26  505.38  507.67  498.27  277550000.0 -0.0232\n",
       "2001-04-04  493.69  496.03  501.32  493.57  313640000.0 -0.0190\n",
       "2001-04-06  506.22  518.06  518.20  504.54  373590000.0  0.0254\n",
       "2001-04-09  497.46  503.07  506.46  497.46  283860000.0 -0.0173\n",
       "2001-04-10  491.21  500.97  501.65  491.21  261940000.0 -0.0126\n",
       "2001-04-11  507.53  505.24  508.75  501.63  354280000.0  0.0332\n",
       "2001-04-12  514.21  516.73  519.48  511.73  408940000.0  0.0132\n",
       "2001-04-13  516.10  518.64  518.65  512.35  346890000.0  0.0037\n",
       "2001-04-16  508.35  514.55  518.26  508.35  328650000.0 -0.0150\n",
       "2001-04-17  513.97  506.92  516.12  505.92  319540000.0  0.0111\n",
       "2001-04-18  540.00  523.26  540.00  520.31  494860000.0  0.0506\n",
       "2001-04-19  563.31  567.49  581.63  558.97  561590000.0  0.0432\n",
       "2001-04-20  556.29  567.66  572.08  556.22  475640000.0 -0.0125\n",
       "2001-04-23  560.94  559.09  566.47  556.52  420370000.0  0.0084\n",
       "2001-04-24  555.64  552.32  556.48  547.39  346700000.0 -0.0094\n",
       "2001-04-25  566.34  552.69  566.34  551.15  376550000.0  0.0193\n",
       "2001-04-26  561.62  569.58  570.99  560.84  305800000.0 -0.0083\n",
       "2001-04-27  556.63  561.06  563.76  553.67  231120000.0 -0.0089\n",
       "2001-04-30  577.36  565.44  577.52  564.72  371500000.0  0.0372"
      ]
     },
     "execution_count": 4,
     "metadata": {},
     "output_type": "execute_result"
    }
   ],
   "source": [
    "kospi.loc['2001-04']"
   ]
  },
  {
   "cell_type": "code",
   "execution_count": 6,
   "metadata": {},
   "outputs": [
    {
     "name": "stdout",
     "output_type": "stream",
     "text": [
      "2000-11 2001-04\n",
      "2001-11 2002-04\n",
      "2002-11 2003-04\n",
      "2003-11 2004-04\n",
      "2004-11 2005-04\n",
      "2005-11 2006-04\n",
      "2006-11 2007-04\n",
      "2007-11 2008-04\n",
      "2008-11 2009-04\n",
      "2009-11 2010-04\n",
      "2010-11 2011-04\n",
      "2011-11 2012-04\n",
      "2012-11 2013-04\n",
      "2013-11 2014-04\n",
      "2014-11 2015-04\n",
      "2015-11 2016-04\n",
      "2016-11 2017-04\n",
      "2017-11 2018-04\n",
      "2018-11 2019-04\n",
      "2019-11 2020-04\n",
      "2020-11 2021-04\n"
     ]
    }
   ],
   "source": [
    "for year in range(2000, 2021):\n",
    "    buy_mon = str(year) + '-11'\n",
    "    sell_mon = str(year+1) + '-04'\n",
    "    print(buy_mon, sell_mon)"
   ]
  },
  {
   "cell_type": "code",
   "execution_count": 10,
   "metadata": {},
   "outputs": [
    {
     "data": {
      "text/plain": [
       "6.18585306815823"
      ]
     },
     "execution_count": 10,
     "metadata": {},
     "output_type": "execute_result"
    }
   ],
   "source": [
    "acc_rtn = 1\n",
    "\n",
    "for year in range(2000, 2021):\n",
    "    buy_mon = str(year) + '-11'\n",
    "    sell_mon = str(year+1) + '-04'\n",
    "\n",
    "    # 매수가 지정\n",
    "    buy = kospi.loc[buy_mon].iloc[0]['Open']\n",
    "    # 매도가 지정\n",
    "    sell = kospi.loc[sell_mon].iloc[-1]['Close']\n",
    "\n",
    "    # 수익률 (매도가 / 매수가)\n",
    "    rtn = sell / buy\n",
    "    # 누적수익률 계산\n",
    "    acc_rtn *= rtn\n",
    "\n",
    "acc_rtn"
   ]
  },
  {
   "cell_type": "code",
   "execution_count": 14,
   "metadata": {},
   "outputs": [
    {
     "data": {
      "text/plain": [
       "3.047562552876995"
      ]
     },
     "execution_count": 14,
     "metadata": {},
     "output_type": "execute_result"
    }
   ],
   "source": [
    "# buy and hold 의 수익률\n",
    "# 매수가\n",
    "buy = kospi.iloc[0]['Open']\n",
    "# 매도가\n",
    "sell = kospi.iloc[-1]['Close']\n",
    "# 수익률\n",
    "rtn = sell / buy\n",
    "rtn\n"
   ]
  },
  {
   "cell_type": "code",
   "execution_count": 11,
   "metadata": {},
   "outputs": [
    {
     "data": {
      "text/plain": [
       "9.06507321504515"
      ]
     },
     "execution_count": 11,
     "metadata": {},
     "output_type": "execute_result"
    }
   ],
   "source": [
    "# CAGR 계산\n",
    "# (수익률 ** (1/투자기간)) - 1 \n",
    "CAGR = (acc_rtn ** (1/21)) - 1\n",
    "CAGR * 100"
   ]
  },
  {
   "cell_type": "code",
   "execution_count": 15,
   "metadata": {},
   "outputs": [
    {
     "data": {
      "text/plain": [
       "5.449703577738263"
      ]
     },
     "execution_count": 15,
     "metadata": {},
     "output_type": "execute_result"
    }
   ],
   "source": [
    "# buy and hold CAGR\n",
    "BAH_CAGR = (rtn** (1/21)) - 1\n",
    "BAH_CAGR * 100"
   ]
  },
  {
   "attachments": {},
   "cell_type": "markdown",
   "metadata": {},
   "source": [
    "백테스팅"
   ]
  },
  {
   "cell_type": "code",
   "execution_count": 16,
   "metadata": {},
   "outputs": [],
   "source": [
    "import datetime\n",
    "from dateutil.relativedelta import relativedelta"
   ]
  },
  {
   "cell_type": "code",
   "execution_count": 17,
   "metadata": {},
   "outputs": [],
   "source": [
    "start = datetime.datetime(year=2000, month=11, day=1)\n",
    "end = start + relativedelta(months=5)"
   ]
  },
  {
   "cell_type": "code",
   "execution_count": 19,
   "metadata": {},
   "outputs": [
    {
     "name": "stdout",
     "output_type": "stream",
     "text": [
      "2000-11 2001-04\n"
     ]
    }
   ],
   "source": [
    "print(start.strftime('%Y-%m'), end.strftime('%Y-%m'))"
   ]
  },
  {
   "cell_type": "code",
   "execution_count": 24,
   "metadata": {},
   "outputs": [],
   "source": [
    "def six_month(df, start_year = 2000, end_year = 2020, month=11):\n",
    "    # 누적수익률 초기값\n",
    "    acc_rtn = 1\n",
    "    # 반복문을 이용하여 누적수익률 계산\n",
    "    for year in range(start_year, end_year):\n",
    "        start = datetime.datetime(year=year, month=month, day=1)\n",
    "        end = start + relativedelta(months=5)\n",
    "\n",
    "        buy_mon = start.strftime('%Y-%m')\n",
    "        sell_mon = end.strftime('%Y-%m')\n",
    "\n",
    "        # 구매가\n",
    "        buy = df.loc[buy_mon].iloc[0]['Open']\n",
    "        # 판매가\n",
    "        sell = df.loc[sell_mon].iloc[-1]['Close']\n",
    "\n",
    "        # 수익률\n",
    "        rtn = sell / buy\n",
    "        # 누적 수익률\n",
    "        acc_rtn*= rtn\n",
    "\n",
    "    return acc_rtn"
   ]
  },
  {
   "cell_type": "code",
   "execution_count": 25,
   "metadata": {},
   "outputs": [
    {
     "data": {
      "text/plain": [
       "6.18585306815823"
      ]
     },
     "execution_count": 25,
     "metadata": {},
     "output_type": "execute_result"
    }
   ],
   "source": [
    "six_month(kospi, 2000, 2021, 11)"
   ]
  },
  {
   "cell_type": "code",
   "execution_count": 26,
   "metadata": {},
   "outputs": [
    {
     "name": "stdout",
     "output_type": "stream",
     "text": [
      "1 -> 1.64\n",
      "2 -> 1.72\n",
      "3 -> 1.64\n",
      "4 -> 1.45\n",
      "5 -> 0.64\n",
      "6 -> 1.16\n",
      "7 -> 1.65\n",
      "8 -> 1.81\n",
      "9 -> 2.03\n",
      "10 -> 2.50\n",
      "11 -> 6.19\n",
      "12 -> 3.68\n"
     ]
    }
   ],
   "source": [
    "for month in range(1, 13):\n",
    "    result = six_month(kospi, 2000, 2021, month)\n",
    "    print(f'{month} -> {result:0.2f}')"
   ]
  },
  {
   "cell_type": "code",
   "execution_count": 33,
   "metadata": {},
   "outputs": [
    {
     "name": "stderr",
     "output_type": "stream",
     "text": [
      "C:\\Users\\ssjjk\\AppData\\Local\\Temp\\ipykernel_307912\\278314112.py:2: DeprecationWarning: the imp module is deprecated in favour of importlib; see the module's documentation for alternative uses\n",
      "  import imp\n"
     ]
    },
    {
     "data": {
      "text/plain": [
       "<module 'halloween' from 'c:\\\\Users\\\\ssjjk\\\\Desktop\\\\6기\\\\특강\\\\halloween\\\\__init__.py'>"
      ]
     },
     "execution_count": 33,
     "metadata": {},
     "output_type": "execute_result"
    }
   ],
   "source": [
    "import halloween as hw\n",
    "import imp\n",
    "imp.reload(hw)"
   ]
  },
  {
   "cell_type": "code",
   "execution_count": 34,
   "metadata": {},
   "outputs": [],
   "source": [
    "test = hw.Halloween(kospi, 2000, 2021)"
   ]
  },
  {
   "cell_type": "code",
   "execution_count": 35,
   "metadata": {},
   "outputs": [
    {
     "data": {
      "text/plain": [
       "6.18585306815823"
      ]
     },
     "execution_count": 35,
     "metadata": {},
     "output_type": "execute_result"
    }
   ],
   "source": [
    "test.AccRtn()"
   ]
  },
  {
   "cell_type": "code",
   "execution_count": 36,
   "metadata": {},
   "outputs": [
    {
     "data": {
      "text/plain": [
       "9.06507321504515"
      ]
     },
     "execution_count": 36,
     "metadata": {},
     "output_type": "execute_result"
    }
   ],
   "source": [
    "test.CAGR()"
   ]
  }
 ],
 "metadata": {
  "kernelspec": {
   "display_name": "Python 3",
   "language": "python",
   "name": "python3"
  },
  "language_info": {
   "codemirror_mode": {
    "name": "ipython",
    "version": 3
   },
   "file_extension": ".py",
   "mimetype": "text/x-python",
   "name": "python",
   "nbconvert_exporter": "python",
   "pygments_lexer": "ipython3",
   "version": "3.8.7 (tags/v3.8.7:6503f05, Dec 21 2020, 17:59:51) [MSC v.1928 64 bit (AMD64)]"
  },
  "orig_nbformat": 4,
  "vscode": {
   "interpreter": {
    "hash": "6ed46fb23ec5ee126807269f2acaff06427feb3c20a806d580a6668d43174b65"
   }
  }
 },
 "nbformat": 4,
 "nbformat_minor": 2
}
